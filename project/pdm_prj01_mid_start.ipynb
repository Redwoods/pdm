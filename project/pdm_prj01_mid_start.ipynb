{
  "cells": [
    {
      "cell_type": "markdown",
      "metadata": {
        "id": "view-in-github",
        "colab_type": "text"
      },
      "source": [
        "<a href=\"https://colab.research.google.com/github/Redwoods/pdm/blob/main/project/pdm_prj01_mid_start.ipynb\" target=\"_parent\"><img src=\"https://colab.research.google.com/assets/colab-badge.svg\" alt=\"Open In Colab\"/></a>"
      ]
    },
    {
      "cell_type": "markdown",
      "source": [
        "# PDM: Project01\n",
        "- ### 경사하강법\n",
        "- ### 당뇨병 데이터 선형 회기 분석 모형\n",
        "- ### 당뇨병 데이터 선형 회기 분석 모형 - Keras MLP\n"
      ],
      "metadata": {
        "id": "2fFPQAepm-ui"
      },
      "id": "2fFPQAepm-ui"
    },
    {
      "cell_type": "markdown",
      "id": "ed046eab",
      "metadata": {
        "id": "ed046eab"
      },
      "source": [
        "## chap04\n",
        "## Linear regression\n",
        "- 경사 하강법\n",
        "- sklearn: LinearRegression\n",
        "    * 키와 몸무게 선형 회기 모델"
      ]
    },
    {
      "cell_type": "code",
      "execution_count": null,
      "id": "0f3acbf9",
      "metadata": {
        "id": "0f3acbf9"
      },
      "outputs": [],
      "source": [
        "import matplotlib.pylab as plt\n",
        "from sklearn import linear_model\n",
        "\n",
        "reg = linear_model.LinearRegression()\n",
        "\n",
        "X = [[174], [152], [138], [128], [186]]\t\t# 2 차원 배열\n",
        "y = [71, 55, 46, 38, 88]\t\n",
        "\n",
        "reg.fit(X, y)\t\t\t# 학습\n",
        "# 평가\n",
        "print(reg.score(X, y))\n",
        "# 에측\n",
        "print(reg.predict([[165]]))\n",
        "\n",
        "# 학습 데이터를 입력으로 하여 예측값을 계산한다.\n",
        "y_pred = reg.predict(X)\n",
        "\n",
        "# 학습 데이터와 y 값을 산포도로 그린다. \n",
        "plt.scatter(X, y, color='black')\n",
        "# 학습 데이터와 예측값으로 선그래프로 그린다. \n",
        "# 계산된 기울기와 y 절편을 가지는 직선이 그려진다. \n",
        "plt.plot(X, y_pred, color='blue', linewidth=3)\t\t\n",
        "plt.show()"
      ]
    },
    {
      "cell_type": "markdown",
      "id": "f59da3d7",
      "metadata": {
        "id": "f59da3d7"
      },
      "source": [
        "## Linear regression\n",
        "- sklearn: LinearRegression\n",
        "    * 당뇨병 데이터 선형 회기 분석 모형"
      ]
    },
    {
      "cell_type": "code",
      "execution_count": null,
      "id": "002add96",
      "metadata": {
        "id": "002add96"
      },
      "outputs": [],
      "source": [
        "import matplotlib.pylab as plt\n",
        "import numpy as np\n",
        "# from sklearn.linear_model import LinearRegression\n",
        "from sklearn import datasets, linear_model\n",
        "\n",
        "# 당뇨병 데이터 세트를 적재한다. \n",
        "diabetes = datasets.load_diabetes()\n",
        "print(str(diabetes))\n",
        "print(str(diabetes.DESCR))\n"
      ]
    },
    {
      "cell_type": "code",
      "source": [
        "# data & target\n",
        "print(diabetes.data.shape, diabetes.target.shape )"
      ],
      "metadata": {
        "id": "T14IN7l9oYMc"
      },
      "id": "T14IN7l9oYMc",
      "execution_count": null,
      "outputs": []
    },
    {
      "cell_type": "code",
      "source": [
        "###########################################################\n",
        "diabetes_X, diabetes_y = datasets.load_diabetes(return_X_y=True)\n",
        "str(diabetes_X)\n",
        "str(diabetes_y)\n",
        "print(diabetes_X.data.shape, diabetes_y.data.shape)\n",
        "###########################################################\n"
      ],
      "metadata": {
        "id": "xvbHTToFn1t1"
      },
      "id": "xvbHTToFn1t1",
      "execution_count": null,
      "outputs": []
    },
    {
      "cell_type": "markdown",
      "source": [
        "## Linear regression of BMI vs. target"
      ],
      "metadata": {
        "id": "Uxk8DUKdpb9C"
      },
      "id": "Uxk8DUKdpb9C"
    },
    {
      "cell_type": "code",
      "source": [
        "# 하나의 특징(BMI)만 추려내서 2차원 배열로 만든다. BMI 특징의 인덱스가 2이다.\n",
        "diabetes_X_new = diabetes_X[:, np.newaxis, 2]   # 2차원 배열\n",
        "print(diabetes_X_new.data.shape )\n",
        "\n",
        "# 학습 데이터와 테스트 데이터를 분리한다. \n",
        "from sklearn.model_selection import train_test_split\n",
        "X_train, X_test, y_train, y_test = train_test_split(diabetes_X_new, diabetes_y, test_size=0.1, random_state=0)\n",
        "\n",
        "regr = linear_model.LinearRegression()\n",
        "regr.fit(X_train, y_train)\n",
        "# regression coeff.s & score\n",
        "print(regr.coef_, regr.intercept_)\n",
        "print(regr.score(X_train, y_train))\n",
        "\n",
        "# 테스트 데이터로 예측해보자. \n",
        "y_pred = regr.predict(X_test) \n",
        "\n",
        "# 실제 데이터와 예측 데이터를 비교해보자. \n",
        "plt.scatter(X_test, y_test,  color='black')\n",
        "plt.plot(X_test, y_pred, color='blue', linewidth=3)\n",
        "plt.show()\n",
        "\n"
      ],
      "metadata": {
        "id": "rS5y9We2onZf"
      },
      "id": "rS5y9We2onZf",
      "execution_count": null,
      "outputs": []
    },
    {
      "cell_type": "markdown",
      "id": "2a548180",
      "metadata": {
        "id": "2a548180"
      },
      "source": [
        "# pandas\n",
        "## Linear regression\n",
        "- sklearn: LinearRegression\n",
        "    * 당뇨병 데이터 선형 회기 분석 모형"
      ]
    },
    {
      "cell_type": "code",
      "execution_count": null,
      "id": "5eb304fa",
      "metadata": {
        "id": "5eb304fa"
      },
      "outputs": [],
      "source": [
        "#\n",
        "# pandas\n",
        "#\n",
        "########################################\n",
        "# 당뇨병 데이터 구조 => DataFrame\n",
        "# Attribute Information:\n",
        "#     - age     age in years\n",
        "#     - sex\n",
        "#     - bmi     body mass index\n",
        "#     - bp      average blood pressure\n",
        "#     - s1      tc, T-Cells (a type of white blood cells)\n",
        "#     - s2      ldl, low-density lipoproteins\n",
        "#     - s3      hdl, high-density lipoproteins\n",
        "#     - s4      tch, thyroid stimulating hormone\n",
        "#     - s5      ltg, lamotrigine\n",
        "#     - s6      glu, blood sugar level\n",
        "# - target  a quantitative measure of disease progression one year after baseline\n",
        "# [참고] https://wikidocs.net/49981\n",
        "#       https://suhyun72.tistory.com/entry/%EC%82%AC%EC%9D%B4%ED%82%B7%EB%9F%B0-scikit-learnsklearn-diabetes\n",
        "#\n",
        "########################################\n",
        "df0 = datasets.load_diabetes(as_frame=True)\n",
        "print(df0)"
      ]
    },
    {
      "cell_type": "code",
      "source": [
        "# More about df0\n",
        "print(type(df0))\n",
        "print(df0.keys())\n"
      ],
      "metadata": {
        "id": "-yF_2XBWrGPn"
      },
      "id": "-yF_2XBWrGPn",
      "execution_count": null,
      "outputs": []
    },
    {
      "cell_type": "code",
      "source": [
        "df0.feature_names"
      ],
      "metadata": {
        "id": "3YHOeOaOrmMw"
      },
      "id": "3YHOeOaOrmMw",
      "execution_count": null,
      "outputs": []
    },
    {
      "cell_type": "code",
      "source": [
        "print(df0.DESCR)\n",
        "print(df0.frame.shape)\n",
        "df0.frame.head()\n",
        "df0.frame.info()"
      ],
      "metadata": {
        "id": "hef9lKUErhlo"
      },
      "id": "hef9lKUErhlo",
      "execution_count": null,
      "outputs": []
    },
    {
      "cell_type": "markdown",
      "source": [
        "### Make dataframe from data bunch"
      ],
      "metadata": {
        "id": "QO4RLI_ZsFt0"
      },
      "id": "QO4RLI_ZsFt0"
    },
    {
      "cell_type": "code",
      "source": [
        "# Make dataframe from data bunch\n",
        "df=df0.frame\n",
        "df.shape\n",
        "df.info()\n",
        "df.head()\n",
        "df.columns\n",
        "# ['age', 'sex', 'bmi', 'bp', 's1', 's2', 's3', 's4', 's5', 's6','target']\n",
        "df[['bmi']].plot()\n",
        "df[['bp']].plot()\n",
        "# plt.show()\n",
        "# 혈당치(glucose)와 target (당뇨병 진행도)\n",
        "df[['s6']].plot()\n",
        "df[['target']].plot()\n",
        "plt.show()\n",
        "\n",
        "# multiple plot\n",
        "df[['bmi','bp','s6','target']].plot()\n",
        "df[['bmi','bp','s6']].plot()\n",
        "plt.show()\n",
        "\n",
        "\n"
      ],
      "metadata": {
        "id": "K3JV3k3RqS3o"
      },
      "id": "K3JV3k3RqS3o",
      "execution_count": null,
      "outputs": []
    },
    {
      "cell_type": "markdown",
      "id": "90b34344",
      "metadata": {
        "id": "90b34344"
      },
      "source": [
        "## 당뇨병데이터의 상관도표"
      ]
    },
    {
      "cell_type": "code",
      "execution_count": null,
      "id": "70911510",
      "metadata": {
        "id": "70911510"
      },
      "outputs": [],
      "source": [
        "#\n",
        "# 상관도표 (correlation) : df.corr()\n",
        "#\n",
        "import seaborn as sns\n",
        "sns.heatmap(df.corr(), \n",
        "        xticklabels=df.columns,\n",
        "        yticklabels=df.columns,\n",
        "        vmin= -1, vmax=1.0) #, cmap='coolwarm')\n",
        "plt.show()\n",
        "\n"
      ]
    },
    {
      "cell_type": "markdown",
      "source": [
        "### target와 상관성이 큰 특징을 정리하시오.\n",
        "- 상관성:\n",
        "- 반상관성: "
      ],
      "metadata": {
        "id": "5vKwjbt7tYhD"
      },
      "id": "5vKwjbt7tYhD"
    },
    {
      "cell_type": "code",
      "source": [
        "# Pairplot\n",
        "plt.figure(figsize=(10,10))\n",
        "sns.pairplot(df)\n",
        "plt.show()\n"
      ],
      "metadata": {
        "id": "bmcMdrMxszdW"
      },
      "id": "bmcMdrMxszdW",
      "execution_count": null,
      "outputs": []
    },
    {
      "cell_type": "markdown",
      "id": "e4328320",
      "metadata": {
        "id": "e4328320"
      },
      "source": [
        "## s6: 혈당치 vs. target (당뇨병 진행도)"
      ]
    },
    {
      "cell_type": "code",
      "execution_count": null,
      "id": "7eac7332",
      "metadata": {
        "id": "7eac7332"
      },
      "outputs": [],
      "source": [
        "# Linear regression\n",
        "# X and y\n",
        "# 하나의 특징(s6: 혈당치)만 추려내서 2차원 배열로 만든다. \n",
        "diabetes_X_new2=df.s6.values \n",
        "diabetes_X_new2=diabetes_X_new2[:,np.newaxis]  # 2차원 배열\n",
        "print(diabetes_X_new2.shape, diabetes_y.shape)\n",
        "\n",
        "X_train, X_test, y_train, y_test = train_test_split(diabetes_X_new2, diabetes_y, test_size=0.1, random_state=0)\n",
        "print(X_train.shape)\n",
        "regr2 = linear_model.LinearRegression()\n",
        "regr2.fit(X_train, y_train)\n",
        "# regression coeff.s & score\n",
        "regr2.coef_, regr2.intercept_\n",
        "print(regr2.score(X_train, y_train))\n",
        "\n",
        "# 테스트 데이터로 예측해보자. \n",
        "y_pred = regr2.predict(X_test) \n",
        "\n",
        "# 실제 데이터와 예측 데이터를 비교해보자. \n",
        "plt.scatter(X_test, y_test,  color='black')\n",
        "plt.plot(X_test, y_pred, 'r', linewidth=3)\n",
        "plt.show()\n"
      ]
    },
    {
      "cell_type": "markdown",
      "id": "4c48da37",
      "metadata": {
        "id": "4c48da37"
      },
      "source": [
        "## s5(lamotrigine ) vs. target (당뇨병 진행도)"
      ]
    },
    {
      "cell_type": "code",
      "execution_count": null,
      "id": "1d1f795d",
      "metadata": {
        "id": "1d1f795d"
      },
      "outputs": [],
      "source": [
        "# s5(lamotrigine )와 target (당뇨병 진행도)\n",
        "df[['s5']].plot()\n",
        "df[['target']].plot()\n",
        "\n",
        "sns.pairplot(df[['s5','target']])\n",
        "plt.show()\n",
        "# X and y\n",
        "# 하나의 특징(s5: lamotrigine)만 추려내서 2차원 배열로 만든다. BMI 특징의 인덱스가 2이다.\n",
        "\n",
        "diabetes_X_new3=df.s5.values \n",
        "diabetes_X_new3=diabetes_X_new3[:,np.newaxis]\n",
        "diabetes_X_new3.shape, diabetes_y.shape\n",
        "\n",
        "X_train, X_test, y_train, y_test = train_test_split(diabetes_X_new3, diabetes_y, test_size=0.1, random_state=0)\n",
        "X_train.shape\n",
        "regr3 = linear_model.LinearRegression()\n",
        "regr3.fit(X_train, y_train)\n",
        "\n",
        "# 테스트 데이터로 예측해보자. \n",
        "y_pred = regr3.predict(X_test) \n",
        "\n",
        "# 실제 데이터와 예측 데이터를 비교해보자. \n",
        "plt.scatter(X_test, y_test,  color='black')\n",
        "plt.plot(X_test, y_pred, 'r', linewidth=3)\n",
        "plt.show()\n",
        "\n",
        "# regression coeff.s & score\n",
        "regr3.coef_,regr3.intercept_\n",
        "print(regr3.score(X_train, y_train))"
      ]
    },
    {
      "cell_type": "markdown",
      "id": "4257f3ed",
      "metadata": {
        "id": "4257f3ed"
      },
      "source": [
        "## R2_score 비교\n",
        "- bmi vs. target\n",
        "- s6 vs. target\n",
        "- s5 vs. target"
      ]
    },
    {
      "cell_type": "code",
      "execution_count": null,
      "id": "6522a3dd",
      "metadata": {
        "id": "6522a3dd"
      },
      "outputs": [],
      "source": [
        "##################################\n",
        "# 비교 : bmi, s6, s5\n",
        "##################################\n",
        "print(regr.score(X_train, y_train))\n",
        "print(regr2.score(X_train, y_train))\n",
        "print(regr3.score(X_train, y_train))\n",
        "\n",
        "sns.pairplot(df[['bmi','s5','s6','target']])\n",
        "plt.show()\n"
      ]
    },
    {
      "cell_type": "markdown",
      "id": "af2342b3",
      "metadata": {
        "id": "af2342b3"
      },
      "source": [
        "## bp vs. target   and s3 vs. target\n",
        "- regression graph & R2 score"
      ]
    },
    {
      "cell_type": "code",
      "execution_count": null,
      "id": "43cdfbd0",
      "metadata": {
        "id": "43cdfbd0"
      },
      "outputs": [],
      "source": [
        "#\n",
        "# [DIY] s3 vs. target ==> regression graph & R2 score\n",
        "#\n",
        "sns.pairplot(df[['bmi', 'bp', 's3','s5','target']])\n",
        "plt.show()"
      ]
    },
    {
      "cell_type": "markdown",
      "source": [
        "### bp vs. target"
      ],
      "metadata": {
        "id": "KSA0pvciv5eM"
      },
      "id": "KSA0pvciv5eM"
    },
    {
      "cell_type": "code",
      "execution_count": null,
      "id": "a3f5ca80",
      "metadata": {
        "id": "a3f5ca80"
      },
      "outputs": [],
      "source": [
        "# X and y\n",
        "# 하나의 특징(bp: average blood pressure)만 추려내서 2차원 배열로 만든다. \n",
        "\n",
        "diabetes_X_new4=df.bp.values \n",
        "diabetes_X_new4=diabetes_X_new4[:,np.newaxis]\n",
        "diabetes_X_new4.shape, diabetes_y.shape\n",
        "\n",
        "X_train, X_test, y_train, y_test = train_test_split(diabetes_X_new4, diabetes_y, test_size=0.1, random_state=0)\n",
        "X_train.shape\n",
        "regr4 = linear_model.LinearRegression()\n",
        "regr4.fit(X_train, y_train)\n",
        "\n",
        "# 테스트 데이터로 예측해보자. \n",
        "y_pred = regr4.predict(X_test) \n",
        "\n",
        "# 실제 데이터와 예측 데이터를 비교해보자. \n",
        "plt.scatter(X_test, y_test,  color='black')\n",
        "plt.plot(X_test, y_pred, 'r', linewidth=3)\n",
        "plt.show()\n",
        "\n",
        "# regression coeff.s & score\n",
        "regr4.coef_,regr4.intercept_\n",
        "print(regr4.score(X_train, y_train))"
      ]
    },
    {
      "cell_type": "markdown",
      "id": "feedd45c",
      "metadata": {
        "id": "feedd45c"
      },
      "source": [
        "---"
      ]
    },
    {
      "cell_type": "markdown",
      "source": [
        "### [DIY] s3 vs. target ==> regression graph & R2 score"
      ],
      "metadata": {
        "id": "wXi9iJOOxl5u"
      },
      "id": "wXi9iJOOxl5u"
    },
    {
      "cell_type": "code",
      "execution_count": null,
      "id": "22a44d44",
      "metadata": {
        "id": "22a44d44"
      },
      "outputs": [],
      "source": [
        "# X and y\n",
        "# 하나의 특징(s3: hdl, high-density lipoproteins)만 추려내서 2차원 배열로 만든다. \n",
        "# DIY code here!\n",
        "\n",
        "\n",
        "\n"
      ]
    }
  ],
  "metadata": {
    "kernelspec": {
      "display_name": "Python 3 (Spyder)",
      "language": "python3",
      "name": "python3"
    },
    "language_info": {
      "codemirror_mode": {
        "name": "ipython",
        "version": 3
      },
      "file_extension": ".py",
      "mimetype": "text/x-python",
      "name": "python",
      "nbconvert_exporter": "python",
      "pygments_lexer": "ipython3",
      "version": "3.9.12"
    },
    "colab": {
      "provenance": [],
      "collapsed_sections": [],
      "include_colab_link": true
    }
  },
  "nbformat": 4,
  "nbformat_minor": 5
}