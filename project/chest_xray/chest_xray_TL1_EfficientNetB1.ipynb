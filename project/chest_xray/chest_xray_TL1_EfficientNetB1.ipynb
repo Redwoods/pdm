{
  "cells": [
    {
      "cell_type": "markdown",
      "metadata": {
        "id": "view-in-github",
        "colab_type": "text"
      },
      "source": [
        "<a href=\"https://colab.research.google.com/github/Redwoods/pdm/blob/main/project/chest_xray/chest_xray_TL1_EfficientNetB1.ipynb\" target=\"_parent\"><img src=\"https://colab.research.google.com/assets/colab-badge.svg\" alt=\"Open In Colab\"/></a>"
      ]
    },
    {
      "cell_type": "markdown",
      "metadata": {
        "id": "wONZs3Ne2i_h"
      },
      "source": [
        "# TL : EfficientNetB1\n",
        "---\n",
        "\n",
        "## Chest X-ray dataset\n",
        "- NORMAL\n",
        "- PNEUMONIA \n",
        "\n",
        "## dataset\n",
        "- chest_xray_data/val/PNEUMONIA 8\n",
        "- chest_xray_data/val/NORMAL 8\n",
        "- chest_xray_data/test/PNEUMONIA 390\n",
        "- chest_xray_data/test/NORMAL 234\n",
        "- chest_xray_data/train/PNEUMONIA 3875\n",
        "- chest_xray_data/train/NORMAL 1341"
      ]
    },
    {
      "cell_type": "code",
      "execution_count": null,
      "metadata": {
        "id": "XcCnvEvx2c-q"
      },
      "outputs": [],
      "source": [
        "# Down chest_xray_data.zip from Google drive\n",
        "# https://drive.google.com/file/d/1rLbgIAsHLB-3OBR4mdhXQcBehz2qzVR2/view?usp=sharing\n",
        "!gdown https://drive.google.com/uc?id=1rLbgIAsHLB-3OBR4mdhXQcBehz2qzVR2\n",
        "\n",
        "# Use this code when errors occur during downloading dataset.\n",
        "# When the above link does not work due to virus checking, use one of the below methods to download dataset.\n",
        "# !wget http://life21c.inje.ac.kr:3030/data/chest_xray_data.zip\n",
        "# !wget http://chaos.inje.ac.kr:3030/data/chest_xray_data.zip"
      ]
    },
    {
      "cell_type": "code",
      "execution_count": null,
      "metadata": {
        "id": "6WOQ3fIG3aSQ"
      },
      "outputs": [],
      "source": [
        "!unzip chest_xray_data.zip   # -d chest_xray_data\n"
      ]
    },
    {
      "cell_type": "code",
      "execution_count": null,
      "metadata": {
        "id": "KY0WN9WR8P36"
      },
      "outputs": [],
      "source": [
        "!ls chest_xray_data"
      ]
    },
    {
      "cell_type": "code",
      "execution_count": null,
      "metadata": {
        "id": "H-uumLLI9F-W"
      },
      "outputs": [],
      "source": [
        "import os\n",
        "path = 'chest_xray_data'\n",
        "# 서브 디렉토리별 파일 개수 출력\n",
        "for root, subdirs, files in os.walk(path):\n",
        "    if len(files) > 0:\n",
        "        print(root, len(files))"
      ]
    },
    {
      "cell_type": "code",
      "execution_count": null,
      "metadata": {
        "id": "owq3z8Q4Kr3q"
      },
      "outputs": [],
      "source": [
        "# import\n",
        "import matplotlib.pyplot as plt \n",
        "from matplotlib.image import imread\n",
        "import tensorflow\n",
        "from tensorflow.keras import models, layers\n"
      ]
    },
    {
      "cell_type": "code",
      "execution_count": null,
      "metadata": {
        "id": "FrdRdRRq-lNQ"
      },
      "outputs": [],
      "source": [
        "# sample image\n",
        "image = imread('chest_xray_data/train/NORMAL/IM-0115-0001.jpeg')\n",
        "image.shape\n",
        "plt.imshow(image) #, cmap='Greys')\n",
        "plt.show()"
      ]
    },
    {
      "cell_type": "code",
      "execution_count": null,
      "metadata": {
        "id": "riSKRq31ZOZQ"
      },
      "outputs": [],
      "source": [
        "# View a random image\n",
        "train_dir = './chest_xray_data/train'\n",
        "test_dir = './chest_xray_data/test'\n",
        "validation_dir = './chest_xray_data/val'\n",
        "\n",
        "import matplotlib.image as mpimg\n",
        "import random\n",
        "\n",
        "def view_random_image(target_dir, target_class):\n",
        "  # Setup target directory (we'll view images from here)\n",
        "  target_folder = target_dir+'/'+target_class\n",
        "\n",
        "  # Get a random image path\n",
        "  random_image = random.sample(os.listdir(target_folder), 1)\n",
        "\n",
        "  # Read in the image and plot it using matplotlib\n",
        "  img = mpimg.imread(target_folder + \"/\" + random_image[0])\n",
        "  plt.imshow(img, cmap = \"gray\")\n",
        "  plt.title(target_class)\n",
        "  plt.axis(\"off\");\n",
        "\n",
        "  print(f\"Image shape: {img.shape}\") # show the shape of the image\n",
        "\n",
        "  return img\n",
        "\n",
        "# classes = ['NORMAL', 'PNEUMONIA']\n",
        "img = view_random_image(target_dir = train_dir, target_class = \"NORMAL\")\n",
        "# img = tensorflow.constant(img)\n",
        "plt.show()\n"
      ]
    },
    {
      "cell_type": "markdown",
      "metadata": {
        "id": "LPrfC2vlDLRp"
      },
      "source": [
        "---"
      ]
    },
    {
      "cell_type": "markdown",
      "metadata": {
        "id": "efKszERtaDY-"
      },
      "source": [
        "## tensorflow dataset from local images"
      ]
    },
    {
      "cell_type": "code",
      "execution_count": null,
      "metadata": {
        "id": "eyYFhfALVuUy"
      },
      "outputs": [],
      "source": [
        "## Setting up the data\n",
        "\n",
        "## Set the image size \n",
        "IMG_SIZE = (224, 224)\n",
        "batchSize = 32\n",
        "\n",
        "print(\"Training Images:\")\n",
        "train_data = tensorflow.keras.preprocessing.image_dataset_from_directory(directory = train_dir,\n",
        "                                                                 image_size = IMG_SIZE,\n",
        "                                                                 label_mode = \"binary\",\n",
        "                                                                 color_mode = \"grayscale\",\n",
        "                                                                 batch_size = batchSize)\n",
        "\n",
        "print(\"Testing Images:\")\n",
        "test_data = tensorflow.keras.preprocessing.image_dataset_from_directory(directory = test_dir,\n",
        "                                                                 image_size = IMG_SIZE,\n",
        "                                                                 label_mode = \"binary\",\n",
        "                                                                 color_mode = \"grayscale\",\n",
        "                                                                 batch_size = batchSize)\n",
        "\n",
        "print(\"Validation Images:\")\n",
        "val_data = tensorflow.keras.preprocessing.image_dataset_from_directory(directory = validation_dir,\n",
        "                                                                 image_size = IMG_SIZE,\n",
        "                                                                 label_mode = \"binary\",\n",
        "                                                                 color_mode = \"grayscale\",\n",
        "                                                                 batch_size = batchSize)"
      ]
    },
    {
      "cell_type": "code",
      "execution_count": null,
      "metadata": {
        "id": "i-wlL82vYxIv"
      },
      "outputs": [],
      "source": [
        "len(train_data),len(test_data),len(val_data)"
      ]
    },
    {
      "cell_type": "code",
      "execution_count": null,
      "metadata": {
        "id": "w0hmKfDOaERi"
      },
      "outputs": [],
      "source": [
        "# Inspecting the train_data\n",
        "train_data   # BatchDataset\n",
        "# <BatchDataset element_spec=(TensorSpec(shape=(None, 224, 224, 1), dtype=tf.float32, name=None), \n",
        "# TensorSpec(shape=(None, 1), dtype=tf.float32, name=None))>\n"
      ]
    },
    {
      "cell_type": "markdown",
      "metadata": {
        "id": "3Sbjwlrpahuu"
      },
      "source": [
        "## Visualize images from dataset"
      ]
    },
    {
      "cell_type": "code",
      "execution_count": null,
      "metadata": {
        "id": "OZdHq9tmaYpL"
      },
      "outputs": [],
      "source": [
        "# Plot images from dataset\n",
        "# figure 크기를 조절합니다.\n",
        "plt.figure(figsize=(10, 10))\n",
        "names = ['NORMAL', 'PNEUMONIA']\n",
        "# 배치 하나를 가져옵니다.\n",
        "for images, labels in train_data.take(1):\n",
        "    print(images.shape, labels[:5])\n",
        "    for i in range(9):\n",
        "        ax = plt.subplot(3, 3, i + 1)\n",
        "        plt.imshow(images[i][:,:,0].numpy().astype(\"uint8\"), cmap = \"gray\") #.numpy())\n",
        "        plt.title(names[int(labels[i])])\n",
        "        plt.axis(\"off\")\n",
        "plt.show()\n",
        "\n",
        "# [DIY] Plot images from test dataset\n",
        "print(\"=\"*20, 'Test dataset', \"=\"*20)\n"
      ]
    },
    {
      "cell_type": "markdown",
      "metadata": {
        "id": "9zUhbOujNIgz"
      },
      "source": [
        "## Data Augmentation"
      ]
    },
    {
      "cell_type": "code",
      "execution_count": null,
      "metadata": {
        "id": "OVQQCfVxCAlo"
      },
      "outputs": [],
      "source": [
        "#\n",
        "# Data augmentation\n",
        "#\n",
        "# Create a data augmentation stage with horizontal flipping, rotations, zooms\n",
        "#\n",
        "tensorflow.get_logger().setLevel('ERROR')  # Clear warnings in data augmentation\n",
        "\n",
        "from tensorflow import keras\n",
        "data_augmentation = keras.Sequential([\n",
        "  layers.RandomFlip(\"horizontal\"),\n",
        "  layers.RandomRotation(0.2),\n",
        "  layers.RandomZoom(0.2),\n",
        "  layers.RandomHeight(0.2),  # Not compatible with model\n",
        "  layers.RandomWidth(0.2),\n",
        "  # layers.Rescaling(1./255) # keep for ResNet50V2, remove for EfficientNetB0\n",
        "], name =\"data_augmentation\")\n"
      ]
    },
    {
      "cell_type": "markdown",
      "metadata": {
        "id": "bb5y12kKbF6T"
      },
      "source": [
        "### Visualize the augmented images"
      ]
    },
    {
      "cell_type": "code",
      "execution_count": null,
      "metadata": {
        "id": "_u2dYk6kbHrv"
      },
      "outputs": [],
      "source": [
        "#\n",
        "# Visualize the augmented images\n",
        "#\n",
        "print(\"=\"*25, 'Train dataset', \"=\"*25)\n",
        "plt.figure(figsize=(10,10))\n",
        "image_idx = 0\n",
        "for images, labels in train_data.take(1):    # Make a batch of images & labels\n",
        "    print(labels,images.shape)\n",
        "    for i in range(9):\n",
        "        ax = plt.subplot(3, 3, i + 1)\n",
        "        aug_img = data_augmentation(tensorflow.expand_dims(images[image_idx], axis=0))\n",
        "        print(aug_img.shape)\n",
        "        plt.imshow(aug_img[0][:,:,0].numpy().astype(\"uint8\"))\n",
        "        plt.title(\"{}\".format(names[int(labels[image_idx])]))\n",
        "        plt.axis(\"off\")\n",
        "    break\n",
        "plt.show()\n",
        "\n",
        "print(\"=\"*25, 'Test dataset', \"=\"*25)\n",
        "plt.figure(figsize=(10,10))\n",
        "image_idx = 0\n",
        "for images, labels in test_data.take(1):    # Make a batch of images & labels\n",
        "    print(labels,images.shape)\n",
        "    for i in range(9):\n",
        "        ax = plt.subplot(3, 3, i + 1)\n",
        "        aug_img = data_augmentation(tensorflow.expand_dims(images[image_idx], axis=0))\n",
        "        print(aug_img.shape)\n",
        "        plt.imshow(aug_img[0][:,:,0].numpy().astype(\"uint8\"))\n",
        "        plt.title(\"{}\".format(names[int(labels[image_idx])]))\n",
        "        plt.axis(\"off\")\n",
        "    break\n",
        "plt.show()"
      ]
    },
    {
      "cell_type": "markdown",
      "metadata": {
        "id": "_6R_5SlrM9kL"
      },
      "source": [
        "# Model: Transfer learning\n",
        "- ## EfficientNetB1"
      ]
    },
    {
      "cell_type": "code",
      "execution_count": null,
      "metadata": {
        "id": "HKpvnANzM0Fb"
      },
      "outputs": [],
      "source": [
        "#\n",
        "# Transfer learning\n",
        "#\n",
        "## Using the model EfficientNetB1 for the first experiment with all the layers trainable \n",
        "#\n",
        "base_model = keras.applications.EfficientNetB1(include_top = False)\n",
        "base_model.trainable = True \n",
        "# Check the input and output of the pretraioned model\n",
        "print(base_model.input.shape)\n",
        "print(base_model.output.shape)\n",
        "\n",
        "for layer_number, layer in enumerate(base_model.layers):\n",
        "  print(layer_number, layer.trainable, end=\", \")\n"
      ]
    },
    {
      "cell_type": "code",
      "execution_count": null,
      "metadata": {
        "id": "wWsGntl5tojI"
      },
      "outputs": [],
      "source": [
        "model = keras.Sequential([\n",
        "  layers.Input(shape=(224,224,1),name='input_layer'),\n",
        "  # layers.Rescaling(1./255),\n",
        "  data_augmentation,\n",
        "  base_model,\n",
        "  layers.GlobalMaxPooling2D(name = \"global_max\"),\n",
        "  layers.Dense(128,activation='relu'),\n",
        "  layers.Dense(1,activation='sigmoid')\n",
        "])\n",
        "\n",
        "model.compile(optimizer=keras.optimizers.Adam(learning_rate=0.0001), \n",
        "              loss = 'binary_crossentropy', \n",
        "              metrics = ['accuracy'])\n",
        "\n",
        "model.summary()\n"
      ]
    },
    {
      "cell_type": "code",
      "execution_count": null,
      "metadata": {
        "id": "Ifb4_7kTO6I-"
      },
      "outputs": [],
      "source": [
        "# from tensorflow import keras\n",
        "keras.utils.plot_model(model, show_shapes=True)"
      ]
    },
    {
      "cell_type": "code",
      "execution_count": null,
      "metadata": {
        "id": "KVS1QpmxPe6P"
      },
      "outputs": [],
      "source": [
        "len(train_data),len(test_data)  # 5216/32, 624/32, batch_size=20"
      ]
    },
    {
      "cell_type": "markdown",
      "metadata": {
        "id": "InREyfbVoUA5"
      },
      "source": [
        "# Building the Model"
      ]
    },
    {
      "cell_type": "code",
      "execution_count": null,
      "metadata": {
        "id": "AuQ5q9hQoSW7"
      },
      "outputs": [],
      "source": [
        "# Setting up the callbacks\n",
        "# Setup EarlyStopping callback to stop training if model's val_loss doesn't improve for 3 epochs\n",
        "early_stopping = keras.callbacks.EarlyStopping(monitor=\"val_loss\", # watch the val loss metric\n",
        "                                                  patience=10) # if val loss decreases for 10 epochs in a row, stop training\n",
        "# Creating learning rate reduction callback\n",
        "reduce_lr = keras.callbacks.ReduceLROnPlateau(monitor=\"val_loss\",  \n",
        "                                                 factor=0.25, # multiply the learning rate by 0.2 (reduce by 4x)\n",
        "                                                 patience=4,  # 3,4,5\n",
        "                                                 verbose=1, # print out when learning rate goes down \n",
        "                                                 min_lr=1e-7)\n",
        "\n",
        "## Check the summary\n",
        "for no, layer in enumerate(model.layers):\n",
        "  print(no, layer.trainable)\n"
      ]
    },
    {
      "cell_type": "code",
      "execution_count": null,
      "metadata": {
        "id": "XnEuJxyfPIr4"
      },
      "outputs": [],
      "source": [
        "######################################################\n",
        "# Training model using augmentated data\n",
        "######################################################\n",
        "#\n",
        "%%time\n",
        "history = model.fit(train_data, \n",
        "                    epochs=100, \n",
        "                    steps_per_epoch = len(train_data), \n",
        "                    validation_data = test_data,\n",
        "                    validation_steps = len(test_data), # batchSize,\n",
        "                    callbacks = [early_stopping, reduce_lr])\n"
      ]
    },
    {
      "cell_type": "markdown",
      "metadata": {
        "id": "34o_7CT7Z41I"
      },
      "source": [
        "### Training graphs"
      ]
    },
    {
      "cell_type": "code",
      "execution_count": null,
      "metadata": {
        "id": "g0V7__s1QhNQ"
      },
      "outputs": [],
      "source": [
        "#############################################\n",
        "# More training graphs\n",
        "# More graphs of loss and accuracy\n",
        "# import matplotlib.pyplot as plt\n",
        "import numpy as np\n",
        "\n",
        "history_dict = history.history \n",
        "loss = history_dict['loss']\n",
        "val_loss = history_dict['val_loss']\n",
        "\n",
        "epochs = range(1, len(loss) + 1)\n",
        "\n",
        "plt.figure(figsize=(14, 4))\n",
        "\n",
        "plt.subplot(1,2,1)\n",
        "plt.plot(epochs, loss, 'go-', label='Training Loss')\n",
        "plt.plot(epochs, val_loss, 'bd', label='Validation Loss')\n",
        "plt.plot(np.argmin(np.array(val_loss))+1,val_loss[np.argmin(np.array(val_loss))], 'r*', ms=12)\n",
        "plt.title('Training and Validation Loss, min: ' + str(np.round(val_loss[np.argmin(np.array(val_loss))],4)))\n",
        "plt.xlabel('Epochs')\n",
        "plt.ylabel('Loss')\n",
        "plt.legend()\n",
        "\n",
        "acc = history_dict['accuracy']\n",
        "val_acc = history_dict['val_accuracy']\n",
        "\n",
        "epochs = range(1, len(loss) + 1)\n",
        "\n",
        "plt.subplot(1,2,2)\n",
        "plt.plot(epochs, acc, 'go-', label='Training Accuracy') #, c='blue')\n",
        "plt.plot(epochs, val_acc, 'bd', label='Validation Accuracy') #, c='red')\n",
        "plt.plot(np.argmax(np.array(val_acc))+1,val_acc[np.argmax(np.array(val_acc))], 'r*', ms=12)\n",
        "plt.title('Training and Validation Accuracy, max: ' + str(np.round(val_acc[np.argmax(np.array(val_acc))],4)))\n",
        "plt.xlabel('Epochs')\n",
        "plt.ylabel('Accuracy')\n",
        "plt.legend()\n",
        "plt.show()\n"
      ]
    },
    {
      "cell_type": "markdown",
      "metadata": {
        "id": "s8gmT1UCSffI"
      },
      "source": [
        "## Overfitted a little!"
      ]
    },
    {
      "cell_type": "markdown",
      "metadata": {
        "id": "gvenFFW3Si8z"
      },
      "source": [
        "---"
      ]
    },
    {
      "cell_type": "code",
      "execution_count": null,
      "metadata": {
        "id": "UQiYMoyLSkK2"
      },
      "outputs": [],
      "source": [
        "model.evaluate(test_data)"
      ]
    },
    {
      "cell_type": "code",
      "execution_count": null,
      "metadata": {
        "id": "QvMmJPq7VKX4"
      },
      "outputs": [],
      "source": [
        "pred = model.predict(test_data)"
      ]
    },
    {
      "cell_type": "code",
      "execution_count": null,
      "metadata": {
        "id": "SO8R9MnFVRe2"
      },
      "outputs": [],
      "source": [
        "pred.shape,pred[:10]"
      ]
    },
    {
      "cell_type": "markdown",
      "metadata": {
        "id": "CeqB8duSV-aj"
      },
      "source": [
        "## CONFUSION MATRIX"
      ]
    },
    {
      "cell_type": "code",
      "execution_count": null,
      "metadata": {
        "id": "rbDAu7rdz3cZ"
      },
      "outputs": [],
      "source": [
        "# Correct-handling with tf_dataset - test_data,unbatch()\n",
        "from sklearn.metrics import confusion_matrix\n",
        "\n",
        "y_test=[]\n",
        "y_pred=[]\n",
        "for images, labels in test_data.unbatch():   # 개개의 이미지에 대한 예측과 label에 수집\n",
        "    # print(images.shape,labels.shape)\n",
        "    y_pred0 = model.predict(np.expand_dims(images, axis=0), verbose=0) #, batch_size=1)  \n",
        "    y_pred.append(np.round(y_pred0[0]))  #, axis=0)\n",
        "    y_test.append(labels.numpy())\n",
        "    # break\n",
        "\n",
        "print(len(y_test),len(y_pred))\n",
        "# print(y_test.shape,y_pred.shape)\n",
        "\n",
        "print(\"정답=\", y_test[0])\n",
        "print(\"예측값=\", y_pred[0]) #, np.round(y_pred0[0]))\n",
        "\n",
        "from sklearn.metrics import accuracy_score\n",
        "print(accuracy_score(y_test, y_pred))\n",
        "\n",
        "confusion_matrix(y_test, y_pred)"
      ]
    },
    {
      "cell_type": "code",
      "execution_count": null,
      "metadata": {
        "id": "jkVBdoRmT6BP"
      },
      "outputs": [],
      "source": [
        "# Testing code\n",
        "# y_pred0,len(y_test),len(y_pred), y_pred[:5], y_test[:5]"
      ]
    },
    {
      "cell_type": "code",
      "execution_count": null,
      "metadata": {
        "id": "Y4HVtVp3VZlE"
      },
      "outputs": [],
      "source": [
        "cm = confusion_matrix(y_test, y_pred)\n",
        "acc = accuracy_score(y_test, y_pred)\n",
        "\n",
        "import seaborn as sns\n",
        "plt.figure(figsize=(5,5))\n",
        "sns.heatmap(cm, cbar=False, xticklabels=names, yticklabels=names, fmt='d', annot=True, cmap=plt.cm.Greens) #coolwarm)\n",
        "plt.xlabel('Predicted')\n",
        "plt.ylabel('Actual')\n",
        "plt.title(f'Confusion matrix, ACC={acc}', fontsize=16)\n",
        "plt.show()"
      ]
    },
    {
      "cell_type": "code",
      "execution_count": null,
      "metadata": {
        "id": "XUbG1mYBwvxM"
      },
      "outputs": [],
      "source": [
        "# 아래 코드를 사용하면 틀린 결과를 얻게됩니다. => 왜 사용 금지?\n",
        "# Wrong-handling with tf_dataset - test_data를 사용할 때마다 다른 iterate가 생성됨.\n",
        "from sklearn.metrics import confusion_matrix\n",
        "y_pred0 = model.predict(test_data)\n",
        "y_pred = list(np.round(y_pred0))  #, axis=0)\n",
        "y_test = [labels.numpy() for _, labels in test_data.unbatch()]\n",
        "print(\"정답=\", y_test[0])\n",
        "print(\"예측값=\", y_pred[0], np.round(y_pred0[0]))\n",
        "\n",
        "from sklearn.metrics import accuracy_score\n",
        "print(accuracy_score(y_test, y_pred))\n",
        "\n",
        "confusion_matrix(y_test, y_pred)"
      ]
    },
    {
      "cell_type": "markdown",
      "metadata": {
        "id": "5K9VIoC-pjma"
      },
      "source": [
        "---\n",
        "## **전이(전환)학습 방법**\n",
        "1. 데이터 수집\n",
        "2. 데이터세트 구성 (train,test,validation): tf.keras.preprocessing.image_dataset_from_directory\n",
        "3. 데이터 증대 (Data augmentation)\n",
        "4. 모델 구성: imagenet 모델 연결, 레이어 학습 조건 설정\n",
        "5. 콜백 조건 설정\n",
        "6. 모델 학습 및 테스트\n",
        "    - steps_per_epoch = len(train_data)\n",
        "    - validation_data = test_data\n",
        "    - validation_steps = len(test_data)\n",
        "\n",
        "> steps_per_epoch를 전체데이터의 길이로 설정: 학습 시간이 길어지나 작을 val_loss를 가진 모델을 구할 수 있디.\n",
        "> validation_steps은 테스트데이터 길이의 25~100으로 조정 가능 %"
      ]
    },
    {
      "cell_type": "markdown",
      "source": [
        "---"
      ],
      "metadata": {
        "id": "GdGN4o5xrtfc"
      }
    },
    {
      "cell_type": "markdown",
      "source": [
        "# [DIY-예비실기평가] 위의 전이학습 코드에 다음 내용을 추가하시오.\n",
        "\n",
        "1. EfficientNetB1 모델에 대한 전이학습에 Fine-Tuning을 적용하여 학습시키시오. \n",
        "- [hint] https://github.com/Redwoods/pdm/blob/main/project/cifar10/cifar10_100pct_TL123.ipynb\n",
        "2. 모델을 학습시키면서 val_accuracy가 최대인 가중치 파일을 저장하시오.\n",
        "3. 저장된 best model을 이용하여 혼동행렬을 구하고 혼동행렬을 그리시오.\n",
        "4. 완성된 ipynb 파일을 chaos21c@gamil.com 으로 보내시오.\n",
        "- 제출파일명 :  **pdmxx**_chest_xray_TL1_EfficientNetB1.ipynb"
      ],
      "metadata": {
        "id": "5fcf8G6Op2Gt"
      }
    },
    {
      "cell_type": "markdown",
      "source": [
        "---\n",
        "---"
      ],
      "metadata": {
        "id": "KoHz34PFrost"
      }
    },
    {
      "cell_type": "markdown",
      "source": [
        "# [기말 실기 안내]\n",
        "\n",
        "- 시간: 12월 14일(수) 오후 1시 (E507)\n",
        "\n",
        "## 실기 내용\n",
        "1. chest_xray_data를 Resnet50을 적용해서 전이학습을 시키시오.\n",
        "```\n",
        "base_model = keras.applications.resnet50.ResNet50(include_top = False)\n",
        "```\n",
        "- 다음 문제를 해결하시오.\n",
        "```\n",
        "# Check the grayscale input and output of base_model\n",
        "ix=layers.Input(shape=(224,224,1))\n",
        "print(base_model(ix))\n",
        "```\n",
        "\n",
        "> Error, Input 0 of layer \"conv1_conv\" is incompatible with the layer: expected axis -1 of input shape to have value 3, but received input with shape (None, 230, 230, 1)\n",
        "\n",
        "> [Hint] How to use grayscale image in ResNet50?\n",
        "\n",
        "2. 모델을 학습시키면서 val_accuracy가 최대인 가중치 파일을 저장하시오.\n",
        "3. 저장된 best model을 이용하여 혼동행렬을 구하고 혼동행렬을 그리시오.\n",
        "4. 완성된 ipynb 파일을 chaos21c@gamil.com 으로 보내시오. (기말 실기 당일 실습실에서 제출.)\n",
        "- 제출파일명 : pdmxx_chest_xray_TL2_Resnet50.ipynb\n",
        "- 위의 코드를 미리 준비해서 각자의 google drive에 보관해서 사용."
      ],
      "metadata": {
        "id": "uebcufHPr2Vn"
      }
    },
    {
      "cell_type": "code",
      "source": [],
      "metadata": {
        "id": "r5NiR70Erpoz"
      },
      "execution_count": null,
      "outputs": []
    }
  ],
  "metadata": {
    "accelerator": "GPU",
    "colab": {
      "provenance": [],
      "include_colab_link": true
    },
    "gpuClass": "standard",
    "kernelspec": {
      "display_name": "Python 3 (Spyder)",
      "language": "python3",
      "name": "python3"
    },
    "language_info": {
      "codemirror_mode": {
        "name": "ipython",
        "version": 3
      },
      "file_extension": ".py",
      "mimetype": "text/x-python",
      "name": "python",
      "nbconvert_exporter": "python",
      "pygments_lexer": "ipython3",
      "version": "3.9.12"
    }
  },
  "nbformat": 4,
  "nbformat_minor": 0
}