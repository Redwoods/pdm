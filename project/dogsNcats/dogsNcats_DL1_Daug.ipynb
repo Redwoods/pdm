{
  "nbformat": 4,
  "nbformat_minor": 0,
  "metadata": {
    "colab": {
      "provenance": [],
      "include_colab_link": true
    },
    "kernelspec": {
      "name": "python3",
      "display_name": "Python 3"
    },
    "language_info": {
      "name": "python"
    },
    "accelerator": "GPU",
    "gpuClass": "standard"
  },
  "cells": [
    {
      "cell_type": "markdown",
      "metadata": {
        "id": "view-in-github",
        "colab_type": "text"
      },
      "source": [
        "<a href=\"https://colab.research.google.com/github/Redwoods/pdm/blob/main/project/dogsNcats/dogsNcats_DL1_Daug.ipynb\" target=\"_parent\"><img src=\"https://colab.research.google.com/assets/colab-badge.svg\" alt=\"Open In Colab\"/></a>"
      ]
    },
    {
      "cell_type": "markdown",
      "source": [
        "# dogsNcats\n",
        "- ## Data Augmentation using ImageDataGenerator"
      ],
      "metadata": {
        "id": "wONZs3Ne2i_h"
      }
    },
    {
      "cell_type": "code",
      "execution_count": null,
      "metadata": {
        "id": "XcCnvEvx2c-q"
      },
      "outputs": [],
      "source": [
        "# Down PetImages.zip from Google drive\n",
        "!gdown https://drive.google.com/uc?id=1VEs5Hz2iThTqP_mRoxQgl8PrZVjwszod"
      ]
    },
    {
      "cell_type": "code",
      "source": [
        "!unzip PetImages.zip -d PetImages\n",
        "# !unzip -q PetImages.zip -d PetImages"
      ],
      "metadata": {
        "id": "6WOQ3fIG3aSQ"
      },
      "execution_count": null,
      "outputs": []
    },
    {
      "cell_type": "code",
      "source": [
        "import os\n",
        "path = 'PetImages'\n",
        "# 서브 디렉토리별 파일 개수 출력\n",
        "for root, subdirs, files in os.walk(path):\n",
        "    if len(files) > 0:\n",
        "        print(root, len(files))"
      ],
      "metadata": {
        "id": "H-uumLLI9F-W"
      },
      "execution_count": null,
      "outputs": []
    },
    {
      "cell_type": "code",
      "source": [
        "import matplotlib.pyplot as plt \n",
        "from matplotlib.image import imread\n",
        "from tensorflow.keras import models, layers\n",
        "\n",
        "# sample image\n",
        "image = imread('PetImages/train/dog/1.jpg')\n",
        "image.shape\n",
        "plt.imshow(image)\n",
        "plt.show()"
      ],
      "metadata": {
        "id": "owq3z8Q4Kr3q"
      },
      "execution_count": null,
      "outputs": []
    },
    {
      "cell_type": "markdown",
      "source": [
        "## Data Augmentation"
      ],
      "metadata": {
        "id": "9zUhbOujNIgz"
      }
    },
    {
      "cell_type": "code",
      "source": [
        "train_dir = './PetImages/train'\n",
        "test_dir = './PetImages/test'\n",
        "\n",
        "#### Data augmentation\n",
        "# https://machinelearningmastery.com/image-augmentation-deep-learning-keras/\n",
        "#\n",
        "from tensorflow.keras.preprocessing.image import ImageDataGenerator\n",
        "\n",
        "train_datagen = ImageDataGenerator(rescale = 1./255, \n",
        "                                   shear_range = 0.2, \n",
        "                                   zoom_range = 0.2, \n",
        "                                   horizontal_flip = True)\n",
        "\n",
        "test_datagen = ImageDataGenerator(rescale = 1./255)\n",
        "\n",
        "train_generator = train_datagen.flow_from_directory(\n",
        "    train_dir,                      \n",
        "    target_size=(128, 128), # (180,180)\n",
        "    batch_size=20,          # 32,...\n",
        "    class_mode = 'binary')\n",
        "\n",
        "test_generator = test_datagen.flow_from_directory(\n",
        "    test_dir,\n",
        "    target_size=(128, 128),\n",
        "    batch_size=20,\n",
        "    class_mode = 'binary')\n",
        "\n",
        "# Inspect train_generator\n",
        "print(train_generator)\n",
        "# <keras.preprocessing.image.DirectoryIterator at 0x1ab237d6880>"
      ],
      "metadata": {
        "id": "cYlXSb_RKwIa"
      },
      "execution_count": null,
      "outputs": []
    },
    {
      "cell_type": "markdown",
      "source": [
        "### Visualize data from data generator"
      ],
      "metadata": {
        "id": "wrj2jkYPNf_k"
      }
    },
    {
      "cell_type": "code",
      "source": [
        "#\n",
        "# Visualize data from data generator\n",
        "# 1. Extract one batch\n",
        "for x_data, t_data in train_generator:\n",
        "    print(x_data.shape)  # (20, 128, 128, 3)\n",
        "    print(type(x_data))  # <class 'numpy.ndarray'>\n",
        "    print(t_data)        # [0. 1. 1. 1. 1. 0. 0. 1. 0. 0. 1. 0. 0. 1. 1. 0. 0. 0. 1. 0.]\n",
        "    # 0 : 고양이,  1 : 댕댕이\n",
        "    break\n",
        "\n",
        "# 2. Display images in the batch\n",
        "fig = plt.figure(figsize=(15, 12))\n",
        "# axs = []\n",
        "for x_data, t_data in train_generator:\n",
        "    for idx, img in enumerate(x_data):\n",
        "        ax = plt.subplot(4, 5, idx + 1)\n",
        "        # axs.append(fig.add_subplot(4,5,idx+1))\n",
        "        plt.imshow(img)\n",
        "        plt.title(\"{}\".format(str(int(t_data[idx]))))\n",
        "        plt.axis(\"off\")\n",
        "    break\n",
        "plt.show()"
      ],
      "metadata": {
        "id": "iHQq1PIYNeRN"
      },
      "execution_count": null,
      "outputs": []
    },
    {
      "cell_type": "code",
      "source": [
        "# for x_data, t_data in train_generator:\n",
        "#     print(x_data.shape)  # (20, 128, 128, 3)\n",
        "#     print(type(x_data))  # <class 'numpy.ndarray'>\n",
        "#     print(t_data)        # [0. 1. 1. 1. 1. 0. 0. 1. 0. 0. 1. 0. 0. 1. 1. 0. 0. 0. 1. 0.]\n",
        "#     # 0 : 고양이,  1 : 댕댕이\n",
        "#     break\n",
        "\n",
        "# 2. Display images in the batch\n",
        "fig = plt.figure(figsize=(15, 12))\n",
        "# axs = []\n",
        "for x_data, t_data in train_generator:\n",
        "    print(x_data.shape)  # (20, 128, 128, 3)\n",
        "    print(type(x_data))  # <class 'numpy.ndarray'>\n",
        "    print(t_data)        # [0. 1. 1. 1. 1. 0. 0. 1. 0. 0. 1. 0. 0. 1. 1. 0. 0. 0. 1. 0.]\n",
        "    # 0 : 고양이,  1 : 댕댕이\n",
        "    for idx, img in enumerate(x_data):\n",
        "        ax = plt.subplot(4, 5, idx + 1)\n",
        "        # axs.append(fig.add_subplot(4,5,idx+1))\n",
        "        plt.imshow(img)\n",
        "        plt.title(\"{}\".format(str(int(t_data[idx]))))\n",
        "        plt.axis(\"off\")\n",
        "    break\n",
        "plt.show()"
      ],
      "metadata": {
        "id": "5Mq856DrOMIv"
      },
      "execution_count": null,
      "outputs": []
    },
    {
      "cell_type": "markdown",
      "source": [
        "## Model : CNN + FCN"
      ],
      "metadata": {
        "id": "_6R_5SlrM9kL"
      }
    },
    {
      "cell_type": "code",
      "source": [
        "model = models.Sequential()\n",
        "model.add(layers.Conv2D(32,(3,3), activation='relu', input_shape=(128,128,3)))\n",
        "model.add(layers.MaxPooling2D(2,2))\n",
        "model.add(layers.Conv2D(64,(3,3), activation='relu'))\n",
        "model.add(layers.MaxPooling2D(2,2))\n",
        "model.add(layers.Flatten())\n",
        "model.add(layers.Dense(units=512, activation='relu'))\n",
        "model.add(layers.Dense(units=1, activation='sigmoid'))\n",
        "\n",
        "model.compile(optimizer = 'adam', loss = 'binary_crossentropy', metrics = ['accuracy'])\n",
        "model.summary()"
      ],
      "metadata": {
        "id": "HKpvnANzM0Fb"
      },
      "execution_count": null,
      "outputs": []
    },
    {
      "cell_type": "code",
      "source": [
        "from tensorflow import keras\n",
        "keras.utils.plot_model(model, show_shapes=True)"
      ],
      "metadata": {
        "id": "Ifb4_7kTO6I-"
      },
      "execution_count": null,
      "outputs": []
    },
    {
      "cell_type": "code",
      "source": [
        "len(train_generator),len(test_generator)"
      ],
      "metadata": {
        "id": "KVS1QpmxPe6P"
      },
      "execution_count": null,
      "outputs": []
    },
    {
      "cell_type": "code",
      "source": [
        "######################################################\n",
        "# Training model using augmentated data\n",
        "######################################################\n",
        "#\n",
        "%%time\n",
        "history = model.fit(\n",
        "    train_generator, \n",
        "    epochs=30,  # 30, 50, 100\n",
        "    steps_per_epoch = 100, # len(train_generator)\n",
        "    validation_data=test_generator, \n",
        "    validation_steps=10) # len(test_generator)\n"
      ],
      "metadata": {
        "id": "XnEuJxyfPIr4"
      },
      "execution_count": null,
      "outputs": []
    },
    {
      "cell_type": "code",
      "source": [
        "#############################################\n",
        "# More training graphs\n",
        "# More graphs of loss and accuracy\n",
        "# import matplotlib.pyplot as plt\n",
        "import numpy as np\n",
        "\n",
        "history_dict = history.history \n",
        "loss = history_dict['loss']\n",
        "val_loss = history_dict['val_loss']\n",
        "\n",
        "epochs = range(1, len(loss) + 1)\n",
        "\n",
        "plt.figure(figsize=(14, 4))\n",
        "\n",
        "plt.subplot(1,2,1)\n",
        "plt.plot(epochs, loss, 'go-', label='Training Loss')\n",
        "plt.plot(epochs, val_loss, 'bd', label='Validation Loss')\n",
        "plt.plot(np.argmin(np.array(val_loss))+1,val_loss[np.argmin(np.array(val_loss))], 'r*', ms=12)\n",
        "plt.title('Training and Validation Loss, min: ' + str(np.round(val_loss[np.argmin(np.array(val_loss))],4)))\n",
        "plt.xlabel('Epochs')\n",
        "plt.ylabel('Loss')\n",
        "plt.legend()\n",
        "\n",
        "acc = history_dict['accuracy']\n",
        "val_acc = history_dict['val_accuracy']\n",
        "\n",
        "epochs = range(1, len(loss) + 1)\n",
        "\n",
        "plt.subplot(1,2,2)\n",
        "plt.plot(epochs, acc, 'go-', label='Training Accuracy') #, c='blue')\n",
        "plt.plot(epochs, val_acc, 'bd', label='Validation Accuracy') #, c='red')\n",
        "plt.plot(np.argmax(np.array(val_acc))+1,val_acc[np.argmax(np.array(val_acc))], 'r*', ms=12)\n",
        "plt.title('Training and Validation Accuracy, max: ' + str(np.round(val_acc[np.argmax(np.array(val_acc))],4)))\n",
        "plt.xlabel('Epochs')\n",
        "plt.ylabel('Accuracy')\n",
        "plt.legend()\n",
        "plt.show()\n"
      ],
      "metadata": {
        "id": "g0V7__s1QhNQ"
      },
      "execution_count": null,
      "outputs": []
    },
    {
      "cell_type": "markdown",
      "source": [
        "## Overfitted!"
      ],
      "metadata": {
        "id": "s8gmT1UCSffI"
      }
    },
    {
      "cell_type": "markdown",
      "source": [
        "---"
      ],
      "metadata": {
        "id": "gvenFFW3Si8z"
      }
    },
    {
      "cell_type": "code",
      "source": [
        "len(train_generator),len(test_generator)"
      ],
      "metadata": {
        "id": "T6qmMKyukeHD"
      },
      "execution_count": null,
      "outputs": []
    },
    {
      "cell_type": "code",
      "source": [
        "model.evaluate(test_generator)"
      ],
      "metadata": {
        "id": "UQiYMoyLSkK2"
      },
      "execution_count": null,
      "outputs": []
    },
    {
      "cell_type": "code",
      "source": [
        "pred = model.predict(test_generator)"
      ],
      "metadata": {
        "id": "QvMmJPq7VKX4"
      },
      "execution_count": null,
      "outputs": []
    },
    {
      "cell_type": "code",
      "source": [
        "pred.shape,pred[:10]"
      ],
      "metadata": {
        "id": "SO8R9MnFVRe2"
      },
      "execution_count": null,
      "outputs": []
    },
    {
      "cell_type": "code",
      "source": [
        "for x_data, t_data in test_generator:\n",
        "    print(x_data.shape, t_data.shape)  # (20, 128, 128, 3)\n",
        "    print(type(x_data))  # <class 'numpy.ndarray'>\n",
        "    print(t_data)        # [0. 1. 1. 1. 1. 0. 0. 1. 0. 0. 1. 0. 0. 1. 1. 0. 0. 0. 1. 0.]\n",
        "    # 0 : 고양이,  1 : 댕댕이\n",
        "    break"
      ],
      "metadata": {
        "id": "Q54vjn9FlJpU"
      },
      "execution_count": null,
      "outputs": []
    },
    {
      "cell_type": "code",
      "source": [
        "y_test = []\n",
        "y_pred = []\n",
        "\n",
        "for x_data, t_data in test_generator:\n",
        "    # print(x_data.shape, t_data.shape)  # (20, 128, 128, 3)\n",
        "    y_pred0=model.predict(x_data, verbose=0)\n",
        "    # print(np.round(y_pred0))\n",
        "    y_pred.append(np.round(np.ndarray.flatten(y_pred0)).tolist())\n",
        "    # print(type(x_data))  # <class 'numpy.ndarray'>\n",
        "    # print(t_data)        # [0. 1. 1. 1. 1. 0. 0. 1. 0. 0. 1. 0. 0. 1. 1. 0. 0. 0. 1. 0.]\n",
        "    y_test.append(t_data.tolist())\n",
        "    # 0 : 고양이,  1 : 댕댕이\n",
        "    if len(y_test)==len(test_generator):\n",
        "        break\n",
        "\n",
        "# Testing code\n",
        "# np.round(np.ndarray.flatten(y_pred0)).tolist()\n",
        "# t_data.tolist()\n",
        "print(len(y_test),len(y_pred))\n",
        "\n",
        "# Flatten the list of list of a batch\n",
        "y_test = [ item for elem in y_test for item in elem]\n",
        "y_pred = [ item for elem in y_pred for item in elem]\n",
        "\n",
        "print(len(y_test),len(y_pred))  # Success!!!"
      ],
      "metadata": {
        "id": "6fZbq8iioOOZ"
      },
      "execution_count": null,
      "outputs": []
    },
    {
      "cell_type": "markdown",
      "source": [
        "## CONFUSION MATRIX"
      ],
      "metadata": {
        "id": "CeqB8duSV-aj"
      }
    },
    {
      "cell_type": "code",
      "source": [
        "# Correct-handling with tf_dataset - test_data,unbatch()\n",
        "from sklearn.metrics import confusion_matrix\n",
        "from sklearn.metrics import accuracy_score\n",
        "\n",
        "print(accuracy_score(y_test, y_pred))\n",
        "\n",
        "confusion_matrix(y_test, y_pred)"
      ],
      "metadata": {
        "id": "rbDAu7rdz3cZ"
      },
      "execution_count": null,
      "outputs": []
    },
    {
      "cell_type": "code",
      "source": [
        "cm = confusion_matrix(y_test, y_pred)\n",
        "acc = accuracy_score(y_test, y_pred)\n",
        "names = ['cat', 'dog']\n",
        "\n",
        "import seaborn as sns\n",
        "plt.figure(figsize=(5,5))\n",
        "sns.heatmap(cm, cbar=False, xticklabels=names, yticklabels=names, fmt='d', annot=True, cmap=plt.cm.Greens) #coolwarm)\n",
        "plt.xlabel('Predicted')\n",
        "plt.ylabel('Actual')\n",
        "plt.title(f'Confusion matrix, ACC={acc}', fontsize=16)\n",
        "plt.show()"
      ],
      "metadata": {
        "id": "Y4HVtVp3VZlE"
      },
      "execution_count": null,
      "outputs": []
    }
  ]
}