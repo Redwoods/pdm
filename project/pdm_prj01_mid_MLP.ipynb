{
  "cells": [
    {
      "cell_type": "markdown",
      "metadata": {
        "id": "view-in-github",
        "colab_type": "text"
      },
      "source": [
        "<a href=\"https://colab.research.google.com/github/Redwoods/pdm/blob/main/project/pdm_prj01_mid_MLP.ipynb\" target=\"_parent\"><img src=\"https://colab.research.google.com/assets/colab-badge.svg\" alt=\"Open In Colab\"/></a>"
      ]
    },
    {
      "cell_type": "markdown",
      "source": [
        "# PDM: Project01\n",
        "- ### data: sklearn이 제공하는 당뇨병 데이터  \n",
        "- ### analysis:  Keras MLP Regression \n"
      ],
      "metadata": {
        "id": "2fFPQAepm-ui"
      },
      "id": "2fFPQAepm-ui"
    },
    {
      "cell_type": "markdown",
      "id": "2a548180",
      "metadata": {
        "id": "2a548180"
      },
      "source": [
        "# pandas\n",
        "## MLP\n",
        "    * 당뇨병 데이터 MLP 회기 분석 모형\n",
        "\n",
        "> [참고] https://www.tensorflow.org/tutorials/keras/regression?hl=ko"
      ]
    },
    {
      "cell_type": "code",
      "source": [
        "# import\n",
        "import matplotlib.pylab as plt\n",
        "import numpy as np\n",
        "from sklearn import datasets"
      ],
      "metadata": {
        "id": "UKka-72H30MT"
      },
      "id": "UKka-72H30MT",
      "execution_count": null,
      "outputs": []
    },
    {
      "cell_type": "code",
      "execution_count": null,
      "id": "5eb304fa",
      "metadata": {
        "id": "5eb304fa"
      },
      "outputs": [],
      "source": [
        "#\n",
        "# pandas\n",
        "#\n",
        "########################################\n",
        "# 당뇨병 데이터 구조 => DataFrame\n",
        "# Attribute Information:\n",
        "#     - age     age in years\n",
        "#     - sex\n",
        "#     - bmi     body mass index\n",
        "#     - bp      average blood pressure\n",
        "#     - s1      tc, T-Cells (a type of white blood cells)\n",
        "#     - s2      ldl, low-density lipoproteins\n",
        "#     - s3      hdl, high-density lipoproteins\n",
        "#     - s4      tch, thyroid stimulating hormone\n",
        "#     - s5      ltg, lamotrigine\n",
        "#     - s6      glu, blood sugar level\n",
        "# - target  a quantitative measure of disease progression one year after baseline\n",
        "# [참고] https://wikidocs.net/49981\n",
        "#       https://suhyun72.tistory.com/entry/%EC%82%AC%EC%9D%B4%ED%82%B7%EB%9F%B0-scikit-learnsklearn-diabetes\n",
        "#\n",
        "########################################\n",
        "df0 = datasets.load_diabetes(as_frame=True)   # data bunch\n",
        "# Make dataframe from data bunch\n",
        "df=df0.frame\n",
        "print(df.shape)\n",
        "print(df.columns)\n",
        "df.head()"
      ]
    },
    {
      "cell_type": "code",
      "source": [
        "df.info()"
      ],
      "metadata": {
        "id": "RAPqAqsd3f4a"
      },
      "id": "RAPqAqsd3f4a",
      "execution_count": null,
      "outputs": []
    },
    {
      "cell_type": "markdown",
      "source": [
        "## Check data"
      ],
      "metadata": {
        "id": "jnGsYaI09VH3"
      },
      "id": "jnGsYaI09VH3"
    },
    {
      "cell_type": "code",
      "source": [
        "# NaN, null\n",
        "df.isna().sum()"
      ],
      "metadata": {
        "id": "nUhSAxrB9Xcp"
      },
      "id": "nUhSAxrB9Xcp",
      "execution_count": null,
      "outputs": []
    },
    {
      "cell_type": "code",
      "source": [
        "# Duplicates\n",
        "df.duplicated().sum()"
      ],
      "metadata": {
        "id": "UMmtNa2o9hUa"
      },
      "id": "UMmtNa2o9hUa",
      "execution_count": null,
      "outputs": []
    },
    {
      "cell_type": "markdown",
      "source": [
        "## target의 값을 결정하는 중요한 특징\n",
        "- 양의 상관성: bmi, bp, s5\n",
        "- 반상관성 : s3"
      ],
      "metadata": {
        "id": "0IdiGapq418H"
      },
      "id": "0IdiGapq418H"
    },
    {
      "cell_type": "code",
      "source": [
        "import seaborn as sns\n",
        "plt.figure(figsize=(8,7))\n",
        "sns.heatmap(df.corr(), \n",
        "        xticklabels=df.columns,\n",
        "        yticklabels=df.columns,\n",
        "        vmin= -1, vmax=1.0, cmap='coolwarm',\n",
        "        annot=True, fmt='.2f')\n",
        "plt.show()"
      ],
      "metadata": {
        "id": "PziErFc35uBC"
      },
      "id": "PziErFc35uBC",
      "execution_count": null,
      "outputs": []
    },
    {
      "cell_type": "code",
      "source": [
        "df[['bmi','bp','s3','s5']].plot()"
      ],
      "metadata": {
        "id": "7Z5bDeut5W3r"
      },
      "id": "7Z5bDeut5W3r",
      "execution_count": null,
      "outputs": []
    },
    {
      "cell_type": "code",
      "source": [
        "plt.figure(figsize=(8,8))\n",
        "sns.pairplot(df[['bmi', 'bp', 's3','s5','target']])\n",
        "plt.show()"
      ],
      "metadata": {
        "id": "K75wLuu95phI"
      },
      "id": "K75wLuu95phI",
      "execution_count": null,
      "outputs": []
    },
    {
      "cell_type": "markdown",
      "id": "feedd45c",
      "metadata": {
        "id": "feedd45c"
      },
      "source": [
        "---"
      ]
    },
    {
      "cell_type": "markdown",
      "source": [
        "## 데이터 구성\n",
        "- train data\n",
        "- test data\n"
      ],
      "metadata": {
        "id": "bSNEpl8FCZt2"
      },
      "id": "bSNEpl8FCZt2"
    },
    {
      "cell_type": "code",
      "execution_count": null,
      "id": "22a44d44",
      "metadata": {
        "id": "22a44d44"
      },
      "outputs": [],
      "source": [
        "X = df[['bmi', 'bp', 's3','s5']].values\n",
        "y = df[['target']].values\n",
        "\n",
        "X.shape,y.shape, type(X),type(y)"
      ]
    },
    {
      "cell_type": "code",
      "source": [
        "y = np.squeeze(y, 1)\n",
        "X.shape, y.shape"
      ],
      "metadata": {
        "id": "Yk0Ot67yDJQR"
      },
      "id": "Yk0Ot67yDJQR",
      "execution_count": null,
      "outputs": []
    },
    {
      "cell_type": "code",
      "source": [
        "# train, test data\n",
        "from sklearn.model_selection import train_test_split\n",
        "\n",
        "X_train,X_test, y_train, y_test = train_test_split(X,y,test_size = 0.2, random_state= 42)\n",
        "X_train.shape,X_test.shape, y_train.shape, y_test.shape"
      ],
      "metadata": {
        "id": "qi60dZXKDHIF"
      },
      "id": "qi60dZXKDHIF",
      "execution_count": null,
      "outputs": []
    },
    {
      "cell_type": "markdown",
      "source": [
        "## MLP model\n",
        "- Sequential model\n",
        "- Functional model"
      ],
      "metadata": {
        "id": "JFYWYhZCD5A9"
      },
      "id": "JFYWYhZCD5A9"
    },
    {
      "cell_type": "code",
      "source": [
        "import tensorflow as tf\n",
        "from keras.models import Sequential\n",
        "from keras.layers import Dense"
      ],
      "metadata": {
        "id": "37teTeaaEP7A"
      },
      "id": "37teTeaaEP7A",
      "execution_count": null,
      "outputs": []
    },
    {
      "cell_type": "code",
      "source": [
        "# Sequential model\n",
        "model = Sequential()\n",
        "    \n",
        "model.add(Dense(16, input_shape = (4,), activation = 'relu'))\n",
        "model.add(Dense(8, activation = 'relu'))\n",
        "model.add(Dense(1))  #, activation = 'sigmoid'))\n",
        "    \n",
        "optimizer = tf.keras.optimizers.RMSprop(0.001)\n",
        "model.compile(loss = 'mse', optimizer =optimizer,  metrics = ['mse'] )\n",
        "# model.compile(loss = 'mse', optimizer ='adam',  metrics = ['mse'] )\n",
        "    \n",
        "model.summary()"
      ],
      "metadata": {
        "id": "LVXjRpInD_sv"
      },
      "id": "LVXjRpInD_sv",
      "execution_count": null,
      "outputs": []
    },
    {
      "cell_type": "code",
      "source": [
        "# Training\n",
        "history = model.fit(X_train, y_train, \n",
        "          epochs= 200, \n",
        "          batch_size = 10,\n",
        "          validation_split = 0.2, verbose=2)"
      ],
      "metadata": {
        "id": "fx54QjjJFMbO"
      },
      "id": "fx54QjjJFMbO",
      "execution_count": null,
      "outputs": []
    },
    {
      "cell_type": "code",
      "source": [
        "# Training graphs\n",
        "#\n",
        "import numpy as np\n",
        "\n",
        "history_dict = history.history \n",
        "loss = history_dict['loss']\n",
        "val_loss = history_dict['val_loss']\n",
        "\n",
        "epochs = range(1, len(loss) + 1)\n",
        "\n",
        "plt.figure(figsize=(14, 4))\n",
        "\n",
        "plt.subplot(1,2,1)\n",
        "plt.plot(epochs, loss, 'go-', label='Training Loss')\n",
        "plt.plot(epochs, val_loss, 'bd', label='Validation Loss')\n",
        "plt.plot(np.argmin(np.array(val_loss))+1,val_loss[np.argmin(np.array(val_loss))], 'r*', ms=12)\n",
        "plt.title('Training and Validation Loss, min: ' + str(np.round(val_loss[np.argmin(np.array(val_loss))],2)))\n",
        "plt.xlabel('Epochs')\n",
        "plt.ylabel('Loss')\n",
        "plt.legend()\n",
        "\n",
        "mse = history_dict['mse']\n",
        "val_mse = history_dict['val_mse']\n",
        "\n",
        "epochs = range(1, len(loss) + 1)\n",
        "\n",
        "plt.subplot(1,2,2)\n",
        "plt.plot(epochs, mse, 'go-', label='Training MSE') #, c='blue')\n",
        "plt.plot(epochs, val_mse, 'bd', label='Validation MSE') #, c='red')\n",
        "plt.plot(np.argmin(np.array(val_mse))+1,val_mse[np.argmin(np.array(val_mse))], 'r*', ms=12)\n",
        "plt.title('Training and Validation MSE, min: ' + str(np.round(val_mse[np.argmin(np.array(val_mse))],2)))\n",
        "plt.xlabel('Epochs')\n",
        "plt.ylabel('MSE')\n",
        "plt.legend()\n",
        "plt.show()"
      ],
      "metadata": {
        "id": "CMgwJOv8Gcnk"
      },
      "id": "CMgwJOv8Gcnk",
      "execution_count": null,
      "outputs": []
    },
    {
      "cell_type": "code",
      "source": [
        "# test 데이터에 대한 평가\n",
        "loss, mse = model.evaluate(X_test, y_test, verbose=2, batch_size=10)\n",
        "\n",
        "print(\"테스트 세트의 MSE: {:5.2f} \".format(mse))"
      ],
      "metadata": {
        "id": "QQkYhPlQKXHI"
      },
      "id": "QQkYhPlQKXHI",
      "execution_count": null,
      "outputs": []
    },
    {
      "cell_type": "code",
      "source": [
        "y_pred= model.predict(X_test, batch_size=10) \n",
        "y_pred"
      ],
      "metadata": {
        "id": "eq9qoIa_MJwD"
      },
      "id": "eq9qoIa_MJwD",
      "execution_count": null,
      "outputs": []
    },
    {
      "cell_type": "code",
      "source": [
        "# 예측\n",
        "# 테스트 데이터에 있는 샘플을 사용해 target 값을 예측해 보겠습니다:\n",
        "# target  a quantitative measure of disease progression one year after baseline\n",
        "\n",
        "y_pred= model.predict(X_test, batch_size=10)  #.flatten()\n"
      ],
      "metadata": {
        "id": "sYrfxqKELXL0"
      },
      "id": "sYrfxqKELXL0",
      "execution_count": null,
      "outputs": []
    },
    {
      "cell_type": "code",
      "source": [
        "plt.scatter(y_test, y_pred,  color='black')\n",
        "plt.plot(y_test, y_test, 'r', linewidth=3)\n",
        "plt.xlabel('True Values [DM]')\n",
        "plt.ylabel('Predictions [DM]')\n",
        "# plt.axis('equal')\n",
        "# plt.axis('square')\n",
        "plt.show()"
      ],
      "metadata": {
        "id": "q2YURVYNN8m5"
      },
      "id": "q2YURVYNN8m5",
      "execution_count": null,
      "outputs": []
    },
    {
      "cell_type": "code",
      "source": [
        "# 테스트데이터에 대한 최종 평가\n",
        "from sklearn.metrics import mean_squared_error, r2_score\n",
        "print('mean_squared_errors: {}'.format(mean_squared_error(y_test, y_pred)))\n",
        "print('r2_score: {}'.format(r2_score(y_test, y_pred)))"
      ],
      "metadata": {
        "id": "O7ggfF60Rj4D"
      },
      "id": "O7ggfF60Rj4D",
      "execution_count": null,
      "outputs": []
    },
    {
      "cell_type": "markdown",
      "source": [
        "---"
      ],
      "metadata": {
        "id": "e-6oJkE6PMxy"
      },
      "id": "e-6oJkE6PMxy"
    },
    {
      "cell_type": "markdown",
      "source": [
        "### [DIY] MLP Functional model을 구성해서 분석하시오."
      ],
      "metadata": {
        "id": "wXi9iJOOxl5u"
      },
      "id": "wXi9iJOOxl5u"
    },
    {
      "cell_type": "code",
      "execution_count": null,
      "metadata": {
        "id": "mW3tkcFfP0vh"
      },
      "outputs": [],
      "source": [
        "# Functional model\n",
        "\n",
        "\n",
        "\n"
      ],
      "id": "mW3tkcFfP0vh"
    }
  ],
  "metadata": {
    "kernelspec": {
      "display_name": "Python 3 (Spyder)",
      "language": "python3",
      "name": "python3"
    },
    "language_info": {
      "codemirror_mode": {
        "name": "ipython",
        "version": 3
      },
      "file_extension": ".py",
      "mimetype": "text/x-python",
      "name": "python",
      "nbconvert_exporter": "python",
      "pygments_lexer": "ipython3",
      "version": "3.9.12"
    },
    "colab": {
      "provenance": [],
      "collapsed_sections": [],
      "include_colab_link": true
    }
  },
  "nbformat": 4,
  "nbformat_minor": 5
}