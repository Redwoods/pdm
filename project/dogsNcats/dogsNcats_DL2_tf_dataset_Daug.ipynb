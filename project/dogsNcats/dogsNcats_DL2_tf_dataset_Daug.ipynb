{
  "nbformat": 4,
  "nbformat_minor": 0,
  "metadata": {
    "colab": {
      "provenance": [],
      "include_colab_link": true
    },
    "kernelspec": {
      "name": "python3",
      "display_name": "Python 3"
    },
    "language_info": {
      "name": "python"
    },
    "accelerator": "GPU",
    "gpuClass": "standard"
  },
  "cells": [
    {
      "cell_type": "markdown",
      "metadata": {
        "id": "view-in-github",
        "colab_type": "text"
      },
      "source": [
        "<a href=\"https://colab.research.google.com/github/Redwoods/pdm/blob/main/project/dogsNcats/dogsNcats_DL2_tf_dataset_Daug.ipynb\" target=\"_parent\"><img src=\"https://colab.research.google.com/assets/colab-badge.svg\" alt=\"Open In Colab\"/></a>"
      ]
    },
    {
      "cell_type": "markdown",
      "source": [
        "# dogsNcats\n",
        "- ## tensorflow dataset"
      ],
      "metadata": {
        "id": "wONZs3Ne2i_h"
      }
    },
    {
      "cell_type": "code",
      "execution_count": null,
      "metadata": {
        "id": "XcCnvEvx2c-q"
      },
      "outputs": [],
      "source": [
        "# Down PetImages.zip from Google drive\n",
        "!gdown https://drive.google.com/uc?id=1VEs5Hz2iThTqP_mRoxQgl8PrZVjwszod"
      ]
    },
    {
      "cell_type": "code",
      "source": [
        "!unzip PetImages.zip -d PetImages\n",
        "# !unzip -q PetImages.zip -d PetImages"
      ],
      "metadata": {
        "id": "6WOQ3fIG3aSQ"
      },
      "execution_count": null,
      "outputs": []
    },
    {
      "cell_type": "code",
      "source": [],
      "metadata": {
        "id": "VqZlUcl4fVXb"
      },
      "execution_count": null,
      "outputs": []
    },
    {
      "cell_type": "code",
      "source": [
        "import os\n",
        "path = 'PetImages'\n",
        "# 서브 디렉토리별 파일 개수 출력\n",
        "for root, subdirs, files in os.walk(path):\n",
        "    if len(files) > 0:\n",
        "        print(root, len(files))"
      ],
      "metadata": {
        "id": "H-uumLLI9F-W"
      },
      "execution_count": null,
      "outputs": []
    },
    {
      "cell_type": "code",
      "source": [
        "# import\n",
        "import matplotlib.pyplot as plt \n",
        "from matplotlib.image import imread\n",
        "# import tensorflow as tf\n",
        "import tensorflow\n",
        "from tensorflow import keras\n",
        "from keras import models, layers\n"
      ],
      "metadata": {
        "id": "owq3z8Q4Kr3q"
      },
      "execution_count": null,
      "outputs": []
    },
    {
      "cell_type": "code",
      "source": [
        "# sample image\n",
        "image = imread('PetImages/train/dog/1.jpg')\n",
        "image.shape\n",
        "plt.imshow(image)\n",
        "plt.show()"
      ],
      "metadata": {
        "id": "tuOLeHPvZs4O"
      },
      "execution_count": null,
      "outputs": []
    },
    {
      "cell_type": "code",
      "source": [
        "# View a random image\n",
        "train_dir = './PetImages/train'\n",
        "test_dir = './PetImages/test'\n",
        "import matplotlib.image as mpimg\n",
        "import random\n",
        "\n",
        "def view_random_image(target_dir, target_class):\n",
        "  # Setup target directory (we'll view images from here)\n",
        "  target_folder = target_dir+'/'+target_class\n",
        "\n",
        "  # Get a random image path\n",
        "  random_image = random.sample(os.listdir(target_folder), 1)\n",
        "\n",
        "  # Read in the image and plot it using matplotlib\n",
        "  img = mpimg.imread(target_folder + \"/\" + random_image[0])\n",
        "  plt.imshow(img, cmap = \"gray\")\n",
        "  plt.title(target_class)\n",
        "  plt.axis(\"off\");\n",
        "\n",
        "  print(f\"Image shape: {img.shape}\") # show the shape of the image\n",
        "\n",
        "  return img\n",
        "\n",
        "img = view_random_image(target_dir = train_dir, target_class = \"cat\")\n",
        "# img = tensorflow.constant(img)\n",
        "plt.show()\n"
      ],
      "metadata": {
        "id": "riSKRq31ZOZQ"
      },
      "execution_count": null,
      "outputs": []
    },
    {
      "cell_type": "markdown",
      "source": [
        "## tensorflow dataset from local images"
      ],
      "metadata": {
        "id": "efKszERtaDY-"
      }
    },
    {
      "cell_type": "code",
      "source": [
        "#\n",
        "# Setting up the data\n",
        "#\n",
        "from tensorflow.keras.preprocessing import image_dataset_from_directory\n",
        "IMG_SIZE = (128, 128)\n",
        "batchSize=20\n",
        "\n",
        "print(\"Training Images:\")\n",
        "train_data = image_dataset_from_directory(directory = train_dir,\n",
        "                                            image_size = IMG_SIZE,\n",
        "                                            label_mode = \"binary\",\n",
        "                                            color_mode = \"rgb\",\n",
        "                                            batch_size = batchSize)\n",
        "\n",
        "print(\"Testing Images:\")\n",
        "test_data = image_dataset_from_directory(directory = test_dir,\n",
        "                                            image_size = IMG_SIZE,\n",
        "                                            label_mode = \"binary\",\n",
        "                                            color_mode = \"rgb\",\n",
        "                                            batch_size = batchSize)\n",
        "\n",
        "# Inspecting the train_data\n",
        "train_data   # BatchDataset\n",
        "# <BatchDataset element_spec=(TensorSpec(shape=(None, 128, 128, 3), dtype=tf.float32, name=None), \n",
        "# TensorSpec(shape=(None, 1), dtype=tf.float32, name=None))>\n"
      ],
      "metadata": {
        "id": "w0hmKfDOaERi"
      },
      "execution_count": null,
      "outputs": []
    },
    {
      "cell_type": "markdown",
      "source": [
        "## Visualize images from dataset"
      ],
      "metadata": {
        "id": "3Sbjwlrpahuu"
      }
    },
    {
      "cell_type": "code",
      "source": [
        "# Plot images from dataset\n",
        "# figure 크기를 조절합니다.\n",
        "plt.figure(figsize=(10, 10))\n",
        "names = ['cat','dog']\n",
        "# 배치 하나를 가져옵니다.\n",
        "for images, labels in train_data.take(1):\n",
        "    for i in range(9):\n",
        "        ax = plt.subplot(3, 3, i + 1)\n",
        "        plt.imshow(images[i].numpy().astype(\"uint8\"))\n",
        "        plt.title(names[int(labels[i])])\n",
        "        plt.axis(\"off\")\n",
        "plt.show()\n",
        "\n",
        "# [DIY] Plot images from test dataset\n",
        "print(\"=\"*20, 'Test dataset', \"=\"*20)\n"
      ],
      "metadata": {
        "id": "OZdHq9tmaYpL"
      },
      "execution_count": null,
      "outputs": []
    },
    {
      "cell_type": "markdown",
      "source": [
        "## Data Augmentation"
      ],
      "metadata": {
        "id": "9zUhbOujNIgz"
      }
    },
    {
      "cell_type": "code",
      "source": [
        "#\n",
        "# Data augmentation\n",
        "#\n",
        "# Create a data augmentation stage with horizontal flipping, rotations, zooms\n",
        "#\n",
        "tensorflow.get_logger().setLevel('ERROR')  # Clear warnings in data augmentation\n",
        "\n",
        "# from tensorflow import keras\n",
        "data_augmentation = keras.Sequential([\n",
        "  layers.RandomFlip(\"horizontal\"),\n",
        "  layers.RandomRotation(0.2),\n",
        "  layers.RandomZoom(0.2),\n",
        "#   layers.RandomHeight(0.1),  # Not compatible with model\n",
        "#   layers.RandomWidth(0.1),\n",
        "  # layers.Rescaling(1./255) # keep for ResNet50V2, remove for EfficientNetB0\n",
        "], name =\"data_augmentation\")\n",
        "\n",
        "# Check the below link\n",
        "# https://stackoverflow.com/questions/72927645/the-last-dimension-of-the-inputs-to-a-dense-layer-should-be-defined-found-none"
      ],
      "metadata": {
        "id": "cYlXSb_RKwIa"
      },
      "execution_count": null,
      "outputs": []
    },
    {
      "cell_type": "markdown",
      "source": [
        "### Visualize the augmented images"
      ],
      "metadata": {
        "id": "bb5y12kKbF6T"
      }
    },
    {
      "cell_type": "code",
      "source": [
        "#\n",
        "# Visualize the augmented images\n",
        "#\n",
        "print(\"=\"*25, 'Train dataset', \"=\"*25)\n",
        "plt.figure(figsize=(10,10))\n",
        "image_idx = 0\n",
        "for images, labels in train_data.take(1):    # Make a batch of images & labels\n",
        "    print(labels,images.shape)\n",
        "    for i in range(9):\n",
        "        ax = plt.subplot(3, 3, i + 1)\n",
        "        aug_img = data_augmentation(tensorflow.expand_dims(images[image_idx], axis=0))\n",
        "        print(aug_img.shape)\n",
        "        plt.imshow(aug_img[0].numpy().astype(\"uint8\"))\n",
        "        plt.title(\"{}\".format(names[int(labels[image_idx])]))\n",
        "        plt.axis(\"off\")\n",
        "    break\n",
        "plt.show()\n",
        "\n",
        "print(\"=\"*25, 'Test dataset', \"=\"*25)\n",
        "plt.figure(figsize=(10,10))\n",
        "image_idx = 0\n",
        "for images, labels in test_data.take(1):    # Make a batch of images & labels\n",
        "    print(labels,images.shape)\n",
        "    for i in range(9):\n",
        "        ax = plt.subplot(3, 3, i + 1)\n",
        "        aug_img = data_augmentation(tensorflow.expand_dims(images[image_idx], axis=0))\n",
        "        print(aug_img.shape)\n",
        "        plt.imshow(aug_img[0].numpy().astype(\"uint8\"))\n",
        "        plt.title(\"{}\".format(names[int(labels[image_idx])]))\n",
        "        plt.axis(\"off\")\n",
        "    break\n",
        "plt.show()"
      ],
      "metadata": {
        "id": "_u2dYk6kbHrv"
      },
      "execution_count": null,
      "outputs": []
    },
    {
      "cell_type": "markdown",
      "source": [
        "## Model : CNN + FCN"
      ],
      "metadata": {
        "id": "_6R_5SlrM9kL"
      }
    },
    {
      "cell_type": "code",
      "source": [
        "#\n",
        "# Sequential model with data augmentation\n",
        "# \n",
        "model = tensorflow.keras.Sequential([\n",
        "  layers.Input(shape=(128,128,3), name='input_layer'),\n",
        "  data_augmentation,\n",
        "  layers.Conv2D(32,3,activation='relu'),\n",
        "  layers.MaxPool2D(pool_size=2),\n",
        "  layers.Conv2D(64,3,activation='relu'),\n",
        "  layers.MaxPool2D(pool_size=2),\n",
        "  layers.Flatten(),\n",
        "  layers.Dense(512, activation='relu'), \n",
        "  layers.Dense(1, activation='sigmoid')  # Remove RandomHeight and RandomWidth fro dataAugmentation\n",
        "])\n",
        "\n",
        "model.compile(optimizer=keras.optimizers.Adam(learning_rate=0.0001), \n",
        "              loss = 'binary_crossentropy', \n",
        "              metrics = ['accuracy'])\n",
        "\n",
        "model.summary()\n"
      ],
      "metadata": {
        "id": "HKpvnANzM0Fb"
      },
      "execution_count": null,
      "outputs": []
    },
    {
      "cell_type": "code",
      "source": [
        "# from tensorflow import keras\n",
        "keras.utils.plot_model(model, show_shapes=True)"
      ],
      "metadata": {
        "id": "Ifb4_7kTO6I-"
      },
      "execution_count": null,
      "outputs": []
    },
    {
      "cell_type": "code",
      "source": [
        "len(train_data),len(test_data)  # 2000/20, 200/20, batch_size=20"
      ],
      "metadata": {
        "id": "KVS1QpmxPe6P"
      },
      "execution_count": null,
      "outputs": []
    },
    {
      "cell_type": "markdown",
      "source": [
        "# Building the Model"
      ],
      "metadata": {
        "id": "InREyfbVoUA5"
      }
    },
    {
      "cell_type": "code",
      "source": [
        "# Setting up the callbacks\n",
        "# Setup EarlyStopping callback to stop training if model's val_loss doesn't improve for 3 epochs\n",
        "early_stopping = keras.callbacks.EarlyStopping(monitor=\"val_loss\", # watch the val loss metric\n",
        "                                                  patience=10) # if val loss decreases for 10 epochs in a row, stop training\n",
        "# Creating learning rate reduction callback\n",
        "reduce_lr = keras.callbacks.ReduceLROnPlateau(monitor=\"val_loss\",  \n",
        "                                                 factor=0.25, # multiply the learning rate by 0.2 (reduce by 4x)\n",
        "                                                 patience=5,\n",
        "                                                 verbose=1, # print out when learning rate goes down \n",
        "                                                 min_lr=1e-7)\n",
        "\n",
        "## Check the summary\n",
        "for no, layer in enumerate(model.layers):\n",
        "  print(no, layer.trainable)\n"
      ],
      "metadata": {
        "id": "AuQ5q9hQoSW7"
      },
      "execution_count": null,
      "outputs": []
    },
    {
      "cell_type": "code",
      "source": [
        "######################################################\n",
        "# Training model using augmentated data\n",
        "######################################################\n",
        "#\n",
        "%%time\n",
        "history = model.fit(train_data, \n",
        "                    epochs=100, \n",
        "                    steps_per_epoch = len(train_data), \n",
        "                    validation_data = test_data,\n",
        "                    validation_steps = len(test_data), # batchSize,\n",
        "                    callbacks = [early_stopping, reduce_lr])\n"
      ],
      "metadata": {
        "id": "XnEuJxyfPIr4"
      },
      "execution_count": null,
      "outputs": []
    },
    {
      "cell_type": "code",
      "source": [
        "#############################################\n",
        "# More training graphs\n",
        "# More graphs of loss and accuracy\n",
        "# import matplotlib.pyplot as plt\n",
        "import numpy as np\n",
        "\n",
        "history_dict = history.history \n",
        "loss = history_dict['loss']\n",
        "val_loss = history_dict['val_loss']\n",
        "\n",
        "epochs = range(1, len(loss) + 1)\n",
        "\n",
        "plt.figure(figsize=(14, 4))\n",
        "\n",
        "plt.subplot(1,2,1)\n",
        "plt.plot(epochs, loss, 'go-', label='Training Loss')\n",
        "plt.plot(epochs, val_loss, 'bd', label='Validation Loss')\n",
        "plt.plot(np.argmin(np.array(val_loss))+1,val_loss[np.argmin(np.array(val_loss))], 'r*', ms=12)\n",
        "plt.title('Training and Validation Loss, min: ' + str(np.round(val_loss[np.argmin(np.array(val_loss))],4)))\n",
        "plt.xlabel('Epochs')\n",
        "plt.ylabel('Loss')\n",
        "plt.legend()\n",
        "\n",
        "acc = history_dict['accuracy']\n",
        "val_acc = history_dict['val_accuracy']\n",
        "\n",
        "epochs = range(1, len(loss) + 1)\n",
        "\n",
        "plt.subplot(1,2,2)\n",
        "plt.plot(epochs, acc, 'go-', label='Training Accuracy') #, c='blue')\n",
        "plt.plot(epochs, val_acc, 'bd', label='Validation Accuracy') #, c='red')\n",
        "plt.plot(np.argmax(np.array(val_acc))+1,val_acc[np.argmax(np.array(val_acc))], 'r*', ms=12)\n",
        "plt.title('Training and Validation Accuracy, max: ' + str(np.round(val_acc[np.argmax(np.array(val_acc))],4)))\n",
        "plt.xlabel('Epochs')\n",
        "plt.ylabel('Accuracy')\n",
        "plt.legend()\n",
        "plt.show()\n"
      ],
      "metadata": {
        "id": "g0V7__s1QhNQ"
      },
      "execution_count": null,
      "outputs": []
    },
    {
      "cell_type": "markdown",
      "source": [
        "## Trained so so ..."
      ],
      "metadata": {
        "id": "s8gmT1UCSffI"
      }
    },
    {
      "cell_type": "markdown",
      "source": [
        "---"
      ],
      "metadata": {
        "id": "gvenFFW3Si8z"
      }
    },
    {
      "cell_type": "code",
      "source": [
        "model.evaluate(test_data)"
      ],
      "metadata": {
        "id": "UQiYMoyLSkK2"
      },
      "execution_count": null,
      "outputs": []
    },
    {
      "cell_type": "code",
      "source": [
        "pred = model.predict(test_data)"
      ],
      "metadata": {
        "id": "QvMmJPq7VKX4"
      },
      "execution_count": null,
      "outputs": []
    },
    {
      "cell_type": "code",
      "source": [
        "pred.shape,pred[:10]"
      ],
      "metadata": {
        "id": "SO8R9MnFVRe2"
      },
      "execution_count": null,
      "outputs": []
    },
    {
      "cell_type": "markdown",
      "source": [
        "## CONFUSION MATRIX"
      ],
      "metadata": {
        "id": "CeqB8duSV-aj"
      }
    },
    {
      "cell_type": "code",
      "source": [
        "# Correct-handling with tf_dataset - test_data,unbatch()\n",
        "from sklearn.metrics import confusion_matrix\n",
        "\n",
        "y_test=[]\n",
        "y_pred=[]\n",
        "for images, labels in test_data.unbatch():   # 개개의 이미지에 대한 예측과 label에 수집\n",
        "    # print(images.shape,labels.shape)\n",
        "    y_pred0 = model.predict(np.expand_dims(images, axis=0), verbose=0) #, batch_size=1)  \n",
        "    y_pred.append(np.round(y_pred0[0]))  #, axis=0)\n",
        "    y_test.append(labels.numpy())\n",
        "    # break\n",
        "\n",
        "print(len(y_test),len(y_pred))\n",
        "# print(y_test.shape,y_pred.shape)\n",
        "\n",
        "print(\"정답=\", y_test[0])\n",
        "print(\"예측값=\", y_pred[0]) #, np.round(y_pred0[0]))\n",
        "\n",
        "from sklearn.metrics import accuracy_score\n",
        "print(accuracy_score(y_test, y_pred))\n",
        "\n",
        "confusion_matrix(y_test, y_pred)"
      ],
      "metadata": {
        "id": "rbDAu7rdz3cZ"
      },
      "execution_count": null,
      "outputs": []
    },
    {
      "cell_type": "code",
      "source": [
        "cm = confusion_matrix(y_test, y_pred)\n",
        "acc = accuracy_score(y_test, y_pred)\n",
        "\n",
        "import seaborn as sns\n",
        "plt.figure(figsize=(5,5))\n",
        "sns.heatmap(cm, cbar=False, xticklabels=names, yticklabels=names, fmt='d', annot=True, cmap=plt.cm.Greens) #coolwarm)\n",
        "plt.xlabel('Predicted')\n",
        "plt.ylabel('Actual')\n",
        "plt.title(f'Confusion matrix, ACC={acc}', fontsize=16)\n",
        "plt.show()"
      ],
      "metadata": {
        "id": "Y4HVtVp3VZlE"
      },
      "execution_count": null,
      "outputs": []
    }
  ]
}