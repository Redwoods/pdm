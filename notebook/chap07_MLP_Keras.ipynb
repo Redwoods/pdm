{
  "nbformat": 4,
  "nbformat_minor": 0,
  "metadata": {
    "colab": {
      "provenance": [],
      "collapsed_sections": [],
      "authorship_tag": "ABX9TyPdbe4mQ8RYJl+kRblsEMD/",
      "include_colab_link": true
    },
    "kernelspec": {
      "name": "python3",
      "display_name": "Python 3"
    },
    "language_info": {
      "name": "python"
    },
    "accelerator": "GPU"
  },
  "cells": [
    {
      "cell_type": "markdown",
      "metadata": {
        "id": "view-in-github",
        "colab_type": "text"
      },
      "source": [
        "<a href=\"https://colab.research.google.com/github/Redwoods/pdm/blob/main/notebook/chap07_MLP_Keras.ipynb\" target=\"_parent\"><img src=\"https://colab.research.google.com/assets/colab-badge.svg\" alt=\"Open In Colab\"/></a>"
      ]
    },
    {
      "cell_type": "markdown",
      "source": [
        "# MLP: Keras"
      ],
      "metadata": {
        "id": "ojKdNQSc6G2I"
      }
    },
    {
      "cell_type": "markdown",
      "source": [
        "## mini-batch 구현"
      ],
      "metadata": {
        "id": "Cqxjbj3S6PkI"
      }
    },
    {
      "cell_type": "code",
      "execution_count": 1,
      "metadata": {
        "colab": {
          "base_uri": "https://localhost:8080/"
        },
        "id": "cEVL9aSt6BGk",
        "outputId": "6f019fd9-deda-4cc3-9ef5-4e4ad7b1b496"
      },
      "outputs": [
        {
          "output_type": "stream",
          "name": "stdout",
          "text": [
            "Downloading data from https://storage.googleapis.com/tensorflow/tf-keras-datasets/mnist.npz\n",
            "11493376/11490434 [==============================] - 0s 0us/step\n",
            "11501568/11490434 [==============================] - 0s 0us/step\n",
            "(60000, 28, 28) (60000,)\n",
            "[5 0 4 1 9 2 1 3 1 4]\n",
            "(10000, 28, 28) (10000,)\n",
            "[7 2 1 0 4 1 4 9 5 9]\n",
            "[ 4233 40230 19788 52573 30906 13559 33030 51720 15150 51557  5423 33891]\n"
          ]
        },
        {
          "output_type": "execute_result",
          "data": {
            "text/plain": [
              "((12, 28, 28), (12,))"
            ]
          },
          "metadata": {},
          "execution_count": 1
        }
      ],
      "source": [
        "import numpy as np\n",
        "import tensorflow as tf\n",
        "\n",
        "# 데이터를 학습 데이터와 테스트 데이터로 나눈다. \n",
        "(x_train, y_train), (x_test, y_test) = tf.keras.datasets.mnist.load_data()\n",
        "\n",
        "print(x_train.shape,y_train.shape)\n",
        "print(y_train[:10])\n",
        "print(x_test.shape,y_test.shape)\n",
        "print(y_test[:10])\n",
        "\n",
        "data_size = x_train.shape[0]\n",
        "batch_size = 12\t# 배치 크기\n",
        "\n",
        "selected = np.random.choice(data_size, batch_size)\n",
        "print(selected)\n",
        "x_batch = x_train[selected]\n",
        "y_batch = y_train[selected]\n",
        "x_batch.shape,y_batch.shape\n"
      ]
    },
    {
      "cell_type": "markdown",
      "source": [
        "## mini-batch: XOR using MLP"
      ],
      "metadata": {
        "id": "3aVYISCg7YQw"
      }
    },
    {
      "cell_type": "code",
      "source": [
        "import numpy as np\n",
        "# XOR solution by MLP\n",
        "\n",
        "# 시그모이드 함수\n",
        "def actf(x):\n",
        "\treturn 1/(1+np.exp(-x))\n",
        "\n",
        "# 시그모이드 함수의 미분치\n",
        "def actf_deriv(x):\n",
        "\t    return x*(1-x)\n",
        "\n",
        "# 입력유닛의 개수, 은닉유닛의 개수, 출력유닛의 개수\n",
        "inputs, hiddens, outputs = 2, 2, 1\n",
        "learning_rate = 0.5\n",
        "\n",
        "# 훈련 입력과 출력\n",
        "X = np.array([[0, 0], [0, 1], [1, 0], [1, 1]])\n",
        "T = np.array([[0], [1], [1], [0]])\n",
        "\n",
        "# 가중치를 –1.0에서 1.0 사이의 난수로 초기화한다.\n",
        "W1 = 2*np.random.random((inputs, hiddens))-1   \n",
        "W2 = 2*np.random.random((hiddens, outputs))-1  \n",
        "B1 = np.zeros(hiddens)   \n",
        "B2 = np.zeros(outputs)   \n",
        "\n",
        "# 순방향 전파 계산\n",
        "def predict(x):\n",
        "        layer0 = x\t\t\t# 입력을 layer0에 대입한다. \n",
        "        Z1 = np.dot(layer0, W1)+B1\t# 행렬의 곱을 계산한다. \n",
        "        layer1 = actf(Z1)\t\t# 활성화 함수를 적용한다. \n",
        "        Z2 = np.dot(layer1, W2)+B2\t# 행렬의 곱을 계산한다. \n",
        "        layer2 = actf(Z2)\t\t# 활성화 함수를 적용한다. \n",
        "        return layer0, layer1, layer2\n",
        "    \n",
        "# 역방향 전파 계산\n",
        "def fit():\n",
        "    global W1, W2, B1, B2\n",
        "    for i in range(60000):\n",
        "            layer0, layer1, layer2 = predict(X) # input-batch-size = 4\n",
        "            layer2_error = layer2-T\n",
        "\n",
        "            layer2_delta = layer2_error*actf_deriv(layer2)\n",
        "            layer1_error = np.dot(layer2_delta, W2.T)\n",
        "            layer1_delta = layer1_error*actf_deriv(layer1)\n",
        "            \n",
        "            W2 += -learning_rate*np.dot(layer1.T, layer2_delta)/4.0 # 4개의 입력에 대한 평균 기울기\n",
        "            W1 += -learning_rate*np.dot(layer0.T, layer1_delta)/4.0\n",
        "            B2 += -learning_rate*np.sum(layer2_delta, axis=0)/4.0\n",
        "            B1 += -learning_rate*np.sum(layer1_delta, axis=0)/4.0\n",
        "\n",
        "def test():\n",
        "    for x, y in zip(X, T):\n",
        "        x = np.reshape(x, (1, -1))\t\t# 하나여도 2차원 형태이어야 한다.\n",
        "        layer0, layer1, layer2 = predict(x)\n",
        "        print(x, y, layer2)\n",
        "\n",
        "fit()\n",
        "test()\n",
        "W1,W2\n",
        "B1,B2\n"
      ],
      "metadata": {
        "colab": {
          "base_uri": "https://localhost:8080/"
        },
        "id": "gV0PVXPJ7dW5",
        "outputId": "3012a2db-5d53-45c0-d392-867f6bed326c"
      },
      "execution_count": 2,
      "outputs": [
        {
          "output_type": "stream",
          "name": "stdout",
          "text": [
            "[[0 0]] [0] [[0.01272911]]\n",
            "[[0 1]] [1] [[0.98661693]]\n",
            "[[1 0]] [1] [[0.98666535]]\n",
            "[[1 1]] [0] [[0.01645307]]\n"
          ]
        },
        {
          "output_type": "execute_result",
          "data": {
            "text/plain": [
              "(array([2.65652548, 7.370467  ]), array([-4.84916841]))"
            ]
          },
          "metadata": {},
          "execution_count": 2
        }
      ]
    },
    {
      "cell_type": "markdown",
      "source": [
        "---\n",
        "# Tensorflow-Keras\n",
        "---"
      ],
      "metadata": {
        "id": "KWA1U8QP6m7_"
      }
    },
    {
      "cell_type": "markdown",
      "source": [
        "## MLP XOR using Keras\n",
        "- 1-은닉층\n",
        "- 2-은닉층"
      ],
      "metadata": {
        "id": "GzMMF61p6xvn"
      }
    },
    {
      "cell_type": "code",
      "source": [
        "import numpy as np\n",
        "import tensorflow as tf\n",
        "\n",
        "model = tf.keras.models.Sequential()\n",
        "\n",
        "model.add(tf.keras.layers.Dense(units=2, input_shape=(2,), activation='sigmoid')) #①\n",
        "model.add(tf.keras.layers.Dense(units=1,  activation='sigmoid')) #②\t\t\n",
        "model.compile(loss='mean_squared_error', \n",
        "              optimizer=tf.keras.optimizers.SGD(lr=0.3)) \n",
        "\n",
        "model.summary()\n",
        " \n",
        "X = np.array([[0, 0],[0, 1],[1, 0],[1, 1]])\n",
        "y = np.array([[0], [1], [1], [0]])\n",
        "\n",
        "model.fit(X, y, batch_size=1, epochs=10000, verbose=2)\n",
        "\n",
        "print(model.predict(X))\n",
        "\n",
        "# [[0.0156148 ]\n",
        "#  [0.98538893]\n",
        "#  [0.9820687 ]\n",
        "#  [0.01398213]]"
      ],
      "metadata": {
        "id": "j3WWh_NZ7HN5"
      },
      "execution_count": null,
      "outputs": []
    },
    {
      "cell_type": "code",
      "source": [
        "# 2-은닉층\n",
        "import numpy as np\n",
        "import tensorflow as tf\n",
        "\n",
        "model = tf.keras.models.Sequential()\n",
        "\n",
        "model.add(tf.keras.layers.Dense(units=2, input_shape=(2,), activation='sigmoid')) #①\n",
        "model.add(tf.keras.layers.Dense(units=4, activation='sigmoid')) #\n",
        "model.add(tf.keras.layers.Dense(units=1,  activation='sigmoid')) #\t\t\n",
        "model.compile(loss='mean_squared_error', \n",
        "              optimizer=tf.keras.optimizers.SGD(lr=0.3)) \n",
        "\n",
        "model.summary()\n",
        "\n",
        "X = np.array([[0, 0],[0, 1],[1, 0],[1, 1]])\n",
        "y = np.array([[0], [1], [1], [0]])\n",
        "\n",
        "model.fit(X, y, batch_size=1, epochs=10000, verbose=0)\n",
        "\n",
        "print(model.predict(X))\n",
        "\n",
        "# [[0.00956685]\n",
        "#  [0.9900732 ]\n",
        "#  [0.9919224 ]\n",
        "#  [0.00822851]]"
      ],
      "metadata": {
        "colab": {
          "base_uri": "https://localhost:8080/"
        },
        "id": "Ty8GofkY9L1J",
        "outputId": "155ab430-9e7e-4c91-8265-a7e136efc133"
      },
      "execution_count": 2,
      "outputs": [
        {
          "output_type": "stream",
          "name": "stdout",
          "text": [
            "Model: \"sequential_1\"\n",
            "_________________________________________________________________\n",
            " Layer (type)                Output Shape              Param #   \n",
            "=================================================================\n",
            " dense_2 (Dense)             (None, 2)                 6         \n",
            "                                                                 \n",
            " dense_3 (Dense)             (None, 4)                 12        \n",
            "                                                                 \n",
            " dense_4 (Dense)             (None, 1)                 5         \n",
            "                                                                 \n",
            "=================================================================\n",
            "Total params: 23\n",
            "Trainable params: 23\n",
            "Non-trainable params: 0\n",
            "_________________________________________________________________\n"
          ]
        },
        {
          "output_type": "stream",
          "name": "stderr",
          "text": [
            "/usr/local/lib/python3.7/dist-packages/keras/optimizer_v2/gradient_descent.py:102: UserWarning: The `lr` argument is deprecated, use `learning_rate` instead.\n",
            "  super(SGD, self).__init__(name, **kwargs)\n"
          ]
        },
        {
          "output_type": "stream",
          "name": "stdout",
          "text": [
            "[[0.00559287]\n",
            " [0.99224466]\n",
            " [0.9921956 ]\n",
            " [0.00804779]]\n"
          ]
        }
      ]
    },
    {
      "cell_type": "markdown",
      "source": [
        "## Mnist model using Keras\n",
        "1. Sequential model\n",
        "2. Functional model\n",
        "3. Subclassing model"
      ],
      "metadata": {
        "id": "V42dXKKV97Vp"
      }
    },
    {
      "cell_type": "markdown",
      "source": [
        "### Data loading"
      ],
      "metadata": {
        "id": "I0ILo6lE-WdB"
      }
    },
    {
      "cell_type": "code",
      "source": [
        "import matplotlib.pyplot as plt\n",
        "import tensorflow as tf\n",
        "from tensorflow.keras import layers\n",
        "from tensorflow.keras import models\n",
        "import numpy as np\n",
        "\n",
        "(train_images, train_labels), (test_images, test_labels) = tf.keras.datasets.mnist.load_data()\n",
        "\n",
        "print(train_images.shape)\n",
        "\n",
        "print(train_labels)\n",
        "print(test_images.shape)\n",
        "\n",
        "plt.imshow(train_images[0], cmap=\"Greys\")\n",
        "plt.show()\n"
      ],
      "metadata": {
        "colab": {
          "base_uri": "https://localhost:8080/",
          "height": 373
        },
        "id": "nd8LIGdd-eiA",
        "outputId": "c0672144-9224-4a17-f94a-6735f2b5ab25"
      },
      "execution_count": 3,
      "outputs": [
        {
          "output_type": "stream",
          "name": "stdout",
          "text": [
            "Downloading data from https://storage.googleapis.com/tensorflow/tf-keras-datasets/mnist.npz\n",
            "11493376/11490434 [==============================] - 0s 0us/step\n",
            "11501568/11490434 [==============================] - 0s 0us/step\n",
            "(60000, 28, 28)\n",
            "[5 0 4 ... 5 6 8]\n",
            "(10000, 28, 28)\n"
          ]
        },
        {
          "output_type": "display_data",
          "data": {
            "text/plain": [
              "<Figure size 432x288 with 1 Axes>"
            ],
            "image/png": "[encoded data removed]"
          },
          "metadata": {
            "needs_background": "light"
          }
        }
      ]
    },
    {
      "cell_type": "markdown",
      "source": [
        "### Data preprocessing\n",
        "- Reshape\n",
        "- Normalization\n",
        "- One-hot encoding"
      ],
      "metadata": {
        "id": "xCLjk1tE-9PZ"
      }
    },
    {
      "cell_type": "code",
      "source": [
        "#\n",
        "# dataset: train, test\n",
        "#\n",
        "train_images = train_images.reshape((60000, 784))\n",
        "train_images = train_images.astype('float32') / 255.0\n",
        "\n",
        "test_images = test_images.reshape((10000, 784))\n",
        "test_images = test_images.astype('float32') / 255.0\n",
        "\n",
        "train_labels = tf.keras.utils.to_categorical(train_labels)\n",
        "test_labels = tf.keras.utils.to_categorical(test_labels)\n",
        "\n",
        "print(train_images.shape, train_labels.shape)"
      ],
      "metadata": {
        "colab": {
          "base_uri": "https://localhost:8080/"
        },
        "id": "Abqvn_3p_HWa",
        "outputId": "eadb0ab7-fe98-4f9c-ff06-683cb423502b"
      },
      "execution_count": 4,
      "outputs": [
        {
          "output_type": "stream",
          "name": "stdout",
          "text": [
            "(60000, 784) (60000, 10)\n"
          ]
        }
      ]
    },
    {
      "cell_type": "markdown",
      "source": [
        "## 1. Sequential model"
      ],
      "metadata": {
        "id": "VqF-ToVW_wYq"
      }
    },
    {
      "cell_type": "code",
      "source": [
        "# Model\n",
        "model = models.Sequential()\n",
        "\n",
        "model.add(layers.Dense(512, activation='relu', input_shape=(784,)))\n",
        "model.add(layers.Dense(10, activation='sigmoid'))\n",
        "\n",
        "model.compile(optimizer='rmsprop',\n",
        "                loss='mse',\n",
        "                metrics=['accuracy'])    "
      ],
      "metadata": {
        "id": "X2NDOXvo_1py"
      },
      "execution_count": 5,
      "outputs": []
    },
    {
      "cell_type": "code",
      "source": [
        "# Training with history\n",
        "history = model.fit(train_images, train_labels, epochs=5, batch_size=128, verbose=2)\n",
        "# training graph\n",
        "loss = history.history['loss']\n",
        "acc = history.history['accuracy']\n",
        "epochs = range(1, len(loss)+1)\n",
        "\n",
        "plt.plot(epochs, loss, 'b', label='Training Loss')\n",
        "plt.plot(epochs, acc, 'r', label='Accuracy')\n",
        "plt.xlabel('epochs')\n",
        "plt.ylabel('loss/acc')\n",
        "plt.show()"
      ],
      "metadata": {
        "colab": {
          "base_uri": "https://localhost:8080/",
          "height": 458
        },
        "id": "SdKX5YFlAJE6",
        "outputId": "cbbf3385-5f24-444c-d543-73615d58500f"
      },
      "execution_count": 6,
      "outputs": [
        {
          "output_type": "stream",
          "name": "stdout",
          "text": [
            "Epoch 1/5\n",
            "469/469 - 2s - loss: 0.0159 - accuracy: 0.9176 - 2s/epoch - 5ms/step\n",
            "Epoch 2/5\n",
            "469/469 - 1s - loss: 0.0064 - accuracy: 0.9657 - 1s/epoch - 2ms/step\n",
            "Epoch 3/5\n",
            "469/469 - 1s - loss: 0.0045 - accuracy: 0.9764 - 1s/epoch - 3ms/step\n",
            "Epoch 4/5\n",
            "469/469 - 1s - loss: 0.0035 - accuracy: 0.9825 - 1s/epoch - 2ms/step\n",
            "Epoch 5/5\n",
            "469/469 - 1s - loss: 0.0028 - accuracy: 0.9858 - 1s/epoch - 2ms/step\n"
          ]
        },
        {
          "output_type": "display_data",
          "data": {
            "text/plain": [
              "<Figure size 432x288 with 1 Axes>"
            ],
            "image/png": "[encoded data removed]"
          },
          "metadata": {
            "needs_background": "light"
          }
        }
      ]
    },
    {
      "cell_type": "code",
      "source": [
        "# test\n",
        "test_loss, test_acc = model.evaluate(test_images, test_labels)\n",
        "print('테스트 정확도:', test_acc)"
      ],
      "metadata": {
        "colab": {
          "base_uri": "https://localhost:8080/"
        },
        "id": "6vVDQO6PBLBq",
        "outputId": "7316301f-8e58-48cd-e33b-4d01265f8877"
      },
      "execution_count": 7,
      "outputs": [
        {
          "output_type": "stream",
          "name": "stdout",
          "text": [
            "313/313 [==============================] - 1s 2ms/step - loss: 0.0037 - accuracy: 0.9803\n",
            "테스트 정확도: 0.9803000092506409\n"
          ]
        }
      ]
    },
    {
      "cell_type": "code",
      "source": [
        "# Test with new image\n",
        "import cv2 as cv\n",
        "\n",
        "image = cv.imread('test.png', cv.IMREAD_GRAYSCALE)\n",
        "image = cv.resize(image, (28, 28))\n",
        "image = image.astype('float32')\n",
        "# plt.imshow(image.reshape(28, 28),cmap='Greys')\n",
        "# plt.show()\n",
        "image = image.reshape(1, 784)\n",
        "image = 255-image\n",
        "image /= 255.0\n",
        "\n",
        "plt.imshow(image.reshape(28, 28),cmap='Greys')\n",
        "plt.show()\n",
        "\n",
        "pred = model.predict(image.reshape(1, 784), batch_size=1)\n",
        "print(\"추정된 숫자=\", pred.argmax())\n",
        "print(np.sum(pred))"
      ],
      "metadata": {
        "colab": {
          "base_uri": "https://localhost:8080/",
          "height": 301
        },
        "id": "9JlQ9pEOBqMi",
        "outputId": "3020daef-ce8a-4b52-e30d-be398e1e1875"
      },
      "execution_count": 8,
      "outputs": [
        {
          "output_type": "display_data",
          "data": {
            "text/plain": [
              "<Figure size 432x288 with 1 Axes>"
            ],
            "image/png": "[encoded data removed]"
          },
          "metadata": {
            "needs_background": "light"
          }
        },
        {
          "output_type": "stream",
          "name": "stdout",
          "text": [
            "추정된 숫자= 2\n",
            "0.91566765\n"
          ]
        }
      ]
    },
    {
      "cell_type": "markdown",
      "source": [
        "## 2. Functional model"
      ],
      "metadata": {
        "id": "K4_3lVL6B-nS"
      }
    },
    {
      "cell_type": "code",
      "source": [
        "#\n",
        "# Model2 - Functional\n",
        "#\n",
        "\n",
        "inputs = layers.Input(shape=(784,))\n",
        "\n",
        "x = layers.Dense(512, activation='relu')(inputs)\n",
        "output = layers.Dense(10, activation='sigmoid')(x)\n",
        "\n",
        "model = models.Model(inputs=inputs, outputs=output)\n",
        "\n",
        "model.compile(optimizer='rmsprop',\n",
        "                loss='mse',\n",
        "                metrics=['accuracy'])    "
      ],
      "metadata": {
        "id": "YqE3sXSMCCRK"
      },
      "execution_count": 9,
      "outputs": []
    },
    {
      "cell_type": "code",
      "source": [
        "# Training with history\n",
        "history = model.fit(train_images, train_labels, epochs=5, batch_size=128, verbose=2)\n",
        "loss = history.history['loss']\n",
        "acc = history.history['accuracy']\n",
        "epochs = range(1, len(loss)+1)\n",
        "\n",
        "plt.plot(epochs, loss, 'b', label='Training Loss')\n",
        "plt.plot(epochs, acc, 'r', label='Accuracy')\n",
        "plt.xlabel('epochs')\n",
        "plt.ylabel('loss/acc')\n",
        "plt.show()\n",
        "\n",
        "# test\n",
        "test_loss, test_acc = model.evaluate(test_images, test_labels)\n",
        "print('테스트 정확도:', test_acc)"
      ],
      "metadata": {
        "colab": {
          "base_uri": "https://localhost:8080/",
          "height": 494
        },
        "id": "jaHlMRFSCRl5",
        "outputId": "862c7487-807b-4bd3-89c7-5830007154bb"
      },
      "execution_count": 10,
      "outputs": [
        {
          "output_type": "stream",
          "name": "stdout",
          "text": [
            "Epoch 1/5\n",
            "469/469 - 2s - loss: 0.0164 - accuracy: 0.9138 - 2s/epoch - 3ms/step\n",
            "Epoch 2/5\n",
            "469/469 - 1s - loss: 0.0064 - accuracy: 0.9646 - 1s/epoch - 3ms/step\n",
            "Epoch 3/5\n",
            "469/469 - 1s - loss: 0.0045 - accuracy: 0.9764 - 1s/epoch - 3ms/step\n",
            "Epoch 4/5\n",
            "469/469 - 1s - loss: 0.0035 - accuracy: 0.9822 - 1s/epoch - 2ms/step\n",
            "Epoch 5/5\n",
            "469/469 - 1s - loss: 0.0028 - accuracy: 0.9865 - 1s/epoch - 2ms/step\n"
          ]
        },
        {
          "output_type": "display_data",
          "data": {
            "text/plain": [
              "<Figure size 432x288 with 1 Axes>"
            ],
            "image/png": "[encoded data removed]"
          },
          "metadata": {
            "needs_background": "light"
          }
        },
        {
          "output_type": "stream",
          "name": "stdout",
          "text": [
            "313/313 [==============================] - 1s 2ms/step - loss: 0.0041 - accuracy: 0.9783\n",
            "테스트 정확도: 0.9782999753952026\n"
          ]
        }
      ]
    },
    {
      "cell_type": "markdown",
      "source": [
        "## 3. Subclassing model"
      ],
      "metadata": {
        "id": "6oBkstsWCmkr"
      }
    },
    {
      "cell_type": "code",
      "source": [
        "#\n",
        "# Model3 - Class\n",
        "#\n",
        "class MnistMLP(models.Model):\n",
        "    \n",
        "    def __init__(self, num_classes):\n",
        "        super(MnistMLP, self).__init__(name='mlp')\n",
        "        self.num_classes = num_classes\n",
        "        \n",
        "        self.dense1 = layers.Dense(512, activation='relu')\n",
        "        self.dense2 = layers.Dense(10, activation='softmax')\n",
        "        \n",
        "    def call(self, inputs):\n",
        "        x = self.dense1(inputs)\n",
        "        return self.dense2(x)\n",
        "    \n",
        "# model\n",
        "model = MnistMLP(num_classes=10)\n",
        "\n",
        "model.compile(optimizer='rmsprop',\n",
        "                loss='mse',\n",
        "                metrics=['accuracy'])    "
      ],
      "metadata": {
        "id": "G3ckshvWCrNj"
      },
      "execution_count": 11,
      "outputs": []
    },
    {
      "cell_type": "code",
      "source": [
        "# Training with history\n",
        "history = model.fit(train_images, train_labels, epochs=5, batch_size=128, verbose=2)\n",
        "\n",
        "loss = history.history['loss']\n",
        "acc = history.history['accuracy']\n",
        "epochs = range(1, len(loss)+1)\n",
        "\n",
        "plt.plot(epochs, loss, 'b', label='Training Loss')\n",
        "plt.plot(epochs, acc, 'r', label='Accuracy')\n",
        "plt.xlabel('epochs')\n",
        "plt.ylabel('loss/acc')\n",
        "plt.show()\n",
        "\n",
        "# test\n",
        "test_loss, test_acc = model.evaluate(test_images, test_labels)\n",
        "print('테스트 정확도:', test_acc)"
      ],
      "metadata": {
        "colab": {
          "base_uri": "https://localhost:8080/",
          "height": 494
        },
        "id": "JozESWJfC48b",
        "outputId": "abce075d-054d-4de6-97fc-6e89c0441829"
      },
      "execution_count": 12,
      "outputs": [
        {
          "output_type": "stream",
          "name": "stdout",
          "text": [
            "Epoch 1/5\n",
            "469/469 - 2s - loss: 0.0120 - accuracy: 0.9226 - 2s/epoch - 4ms/step\n",
            "Epoch 2/5\n",
            "469/469 - 1s - loss: 0.0053 - accuracy: 0.9666 - 1s/epoch - 3ms/step\n",
            "Epoch 3/5\n",
            "469/469 - 1s - loss: 0.0037 - accuracy: 0.9771 - 1s/epoch - 3ms/step\n",
            "Epoch 4/5\n",
            "469/469 - 1s - loss: 0.0028 - accuracy: 0.9828 - 1s/epoch - 3ms/step\n",
            "Epoch 5/5\n",
            "469/469 - 1s - loss: 0.0022 - accuracy: 0.9869 - 1s/epoch - 3ms/step\n"
          ]
        },
        {
          "output_type": "display_data",
          "data": {
            "text/plain": [
              "<Figure size 432x288 with 1 Axes>"
            ],
            "image/png": "[encoded data removed]"
          },
          "metadata": {
            "needs_background": "light"
          }
        },
        {
          "output_type": "stream",
          "name": "stdout",
          "text": [
            "313/313 [==============================] - 1s 2ms/step - loss: 0.0032 - accuracy: 0.9784\n",
            "테스트 정확도: 0.9783999919891357\n"
          ]
        }
      ]
    },
    {
      "cell_type": "markdown",
      "source": [
        "---\n",
        "# Hyperparameter search\n",
        "- Grid search\n",
        "---"
      ],
      "metadata": {
        "id": "wmIs9zskDNdS"
      }
    },
    {
      "cell_type": "code",
      "source": [
        "!pip install scikeras"
      ],
      "metadata": {
        "colab": {
          "base_uri": "https://localhost:8080/"
        },
        "id": "ceISTRtyDqF1",
        "outputId": "f880b8a5-4e51-44ce-913e-b9cccf621ae0"
      },
      "execution_count": 14,
      "outputs": [
        {
          "output_type": "stream",
          "name": "stdout",
          "text": [
            "Looking in indexes: https://pypi.org/simple, https://us-python.pkg.dev/colab-wheels/public/simple/\n",
            "Collecting scikeras\n",
            "  Downloading scikeras-0.9.0-py3-none-any.whl (27 kB)\n",
            "Requirement already satisfied: scikit-learn>=1.0.0 in /usr/local/lib/python3.7/dist-packages (from scikeras) (1.0.2)\n",
            "Requirement already satisfied: importlib-metadata>=3 in /usr/local/lib/python3.7/dist-packages (from scikeras) (5.0.0)\n",
            "Requirement already satisfied: packaging>=0.21 in /usr/local/lib/python3.7/dist-packages (from scikeras) (21.3)\n",
            "Requirement already satisfied: zipp>=0.5 in /usr/local/lib/python3.7/dist-packages (from importlib-metadata>=3->scikeras) (3.8.1)\n",
            "Requirement already satisfied: typing-extensions>=3.6.4 in /usr/local/lib/python3.7/dist-packages (from importlib-metadata>=3->scikeras) (4.1.1)\n",
            "Requirement already satisfied: pyparsing!=3.0.5,>=2.0.2 in /usr/local/lib/python3.7/dist-packages (from packaging>=0.21->scikeras) (3.0.9)\n",
            "Requirement already satisfied: numpy>=1.14.6 in /usr/local/lib/python3.7/dist-packages (from scikit-learn>=1.0.0->scikeras) (1.21.6)\n",
            "Requirement already satisfied: scipy>=1.1.0 in /usr/local/lib/python3.7/dist-packages (from scikit-learn>=1.0.0->scikeras) (1.7.3)\n",
            "Requirement already satisfied: threadpoolctl>=2.0.0 in /usr/local/lib/python3.7/dist-packages (from scikit-learn>=1.0.0->scikeras) (3.1.0)\n",
            "Requirement already satisfied: joblib>=0.11 in /usr/local/lib/python3.7/dist-packages (from scikit-learn>=1.0.0->scikeras) (1.2.0)\n",
            "Installing collected packages: scikeras\n",
            "Successfully installed scikeras-0.9.0\n"
          ]
        }
      ]
    },
    {
      "cell_type": "code",
      "source": [
        "# import numpy as np \n",
        "# import matplotlib.pyplot as plt \n",
        "import tensorflow as tf\n",
        "from sklearn.model_selection import GridSearchCV\n",
        "# from tensorflow.keras.wrappers.scikit_learn import KerasClassifier\n",
        "from scikeras.wrappers import KerasClassifier\n",
        "# OS warning cure\n",
        "import os\n",
        "os.environ['TF_CPP_MIN_LOG_LEVEL'] = '3'\n",
        "\n",
        "# 데이터 세트 준비\n",
        "(train_images, train_labels), (test_images, test_labels) = tf.keras.datasets.mnist.load_data()\n",
        "\n",
        "train_images = train_images.reshape((60000, 28 * 28))\n",
        "train_images = train_images.astype('float32') / 255\n",
        "\n",
        "test_images = test_images.reshape((10000, 28 * 28))\n",
        "test_images = test_images.astype('float32') / 255\n",
        "\n",
        "train_labels = tf.keras.utils.to_categorical(train_labels)\n",
        "test_labels = tf.keras.utils.to_categorical(test_labels)\n",
        "                             \n",
        "# 신경망 모델 구축\n",
        "def build_model():\n",
        "    network = tf.keras.models.Sequential()\n",
        "    network.add(tf.keras.layers.Dense(512, activation='relu', input_shape=(28 * 28,)))\n",
        "    network.add(tf.keras.layers.Dense(10, activation='sigmoid'))\n",
        "\n",
        "    network.compile(optimizer='rmsprop',\n",
        "                loss='categorical_crossentropy',\n",
        "                metrics=['accuracy'])\n",
        "    return network\n",
        "\n",
        "# 하이퍼 매개변수 딕셔너리\n",
        "param_grid = {\n",
        "              'epochs':[1, 2, 3],\t# 에포크 수: 1, 2, 3\n",
        "              'batch_size':[32, 64, 100]\t# 배치 크기: 32, 64, 100\n",
        "             }\n",
        "\n",
        "# 케라스 모델을 scikeras에서 사용하도록 포장한다. \n",
        "model = KerasClassifier(model = build_model, verbose=1)\n",
        "\n",
        "## Elapsed time start\n",
        "import time\n",
        "start = time.time()\n",
        "\n",
        "# 그리드 검색\n",
        "gs = GridSearchCV(\n",
        "    estimator=model,\n",
        "    param_grid=param_grid, \n",
        "    cv=3, \n",
        "    # n_jobs=-1 # comment this line to avoid out-of-memory\n",
        ")\n",
        "\n",
        "# 그리드 검색 결과 출력\n",
        "grid_result = gs.fit(train_images, train_labels)\n",
        "\n",
        "## Elapsed time end\n",
        "end = time.time()\n",
        "print('Elapsed time:', end - start) # Elapsed time: 122.5, 189.5\n",
        "\n",
        "print(grid_result.best_score_) # 0.9725, 0.9711\n",
        "print(grid_result.best_params_) # {'batch_size': 64, 'epochs': 3}\n"
      ],
      "metadata": {
        "colab": {
          "base_uri": "https://localhost:8080/"
        },
        "id": "e6O8aH_sDWZq",
        "outputId": "1b4fb45f-f7e0-4d13-a647-f3841492f22a"
      },
      "execution_count": 15,
      "outputs": [
        {
          "output_type": "stream",
          "name": "stdout",
          "text": [
            "1250/1250 [==============================] - 6s 4ms/step - loss: 0.2404 - accuracy: 0.9299\n",
            "625/625 [==============================] - 2s 2ms/step\n",
            "1250/1250 [==============================] - 4s 3ms/step - loss: 0.2349 - accuracy: 0.9304\n",
            "625/625 [==============================] - 1s 1ms/step\n",
            "1250/1250 [==============================] - 4s 3ms/step - loss: 0.2398 - accuracy: 0.9288\n",
            "625/625 [==============================] - 1s 1ms/step\n",
            "Epoch 1/2\n",
            "1250/1250 [==============================] - 4s 3ms/step - loss: 0.2425 - accuracy: 0.9271\n",
            "Epoch 2/2\n",
            "1250/1250 [==============================] - 3s 3ms/step - loss: 0.1048 - accuracy: 0.9685\n",
            "625/625 [==============================] - 1s 1ms/step\n",
            "Epoch 1/2\n",
            "1250/1250 [==============================] - 4s 3ms/step - loss: 0.2376 - accuracy: 0.9301\n",
            "Epoch 2/2\n",
            "1250/1250 [==============================] - 3s 3ms/step - loss: 0.1026 - accuracy: 0.9691\n",
            "625/625 [==============================] - 1s 1ms/step\n",
            "Epoch 1/2\n",
            "1250/1250 [==============================] - 4s 3ms/step - loss: 0.2342 - accuracy: 0.9307\n",
            "Epoch 2/2\n",
            "1250/1250 [==============================] - 3s 3ms/step - loss: 0.1004 - accuracy: 0.9704\n",
            "625/625 [==============================] - 1s 1ms/step\n",
            "Epoch 1/3\n",
            "1250/1250 [==============================] - 4s 3ms/step - loss: 0.2395 - accuracy: 0.9304\n",
            "Epoch 2/3\n",
            "1250/1250 [==============================] - 3s 3ms/step - loss: 0.1053 - accuracy: 0.9685\n",
            "Epoch 3/3\n",
            "1250/1250 [==============================] - 3s 3ms/step - loss: 0.0715 - accuracy: 0.9781\n",
            "625/625 [==============================] - 1s 1ms/step\n",
            "Epoch 1/3\n",
            "1250/1250 [==============================] - 4s 3ms/step - loss: 0.2393 - accuracy: 0.9296\n",
            "Epoch 2/3\n",
            "1250/1250 [==============================] - 3s 3ms/step - loss: 0.1026 - accuracy: 0.9693\n",
            "Epoch 3/3\n",
            "1250/1250 [==============================] - 5s 4ms/step - loss: 0.0713 - accuracy: 0.9786\n",
            "625/625 [==============================] - 1s 2ms/step\n",
            "Epoch 1/3\n",
            "1250/1250 [==============================] - 4s 3ms/step - loss: 0.2412 - accuracy: 0.9275\n",
            "Epoch 2/3\n",
            "1250/1250 [==============================] - 3s 3ms/step - loss: 0.1007 - accuracy: 0.9700\n",
            "Epoch 3/3\n",
            "1250/1250 [==============================] - 3s 3ms/step - loss: 0.0694 - accuracy: 0.9801\n",
            "625/625 [==============================] - 1s 1ms/step\n",
            "625/625 [==============================] - 2s 3ms/step - loss: 0.2668 - accuracy: 0.9223\n",
            "313/313 [==============================] - 1s 2ms/step\n",
            "625/625 [==============================] - 2s 3ms/step - loss: 0.2619 - accuracy: 0.9244\n",
            "313/313 [==============================] - 1s 2ms/step\n",
            "625/625 [==============================] - 2s 3ms/step - loss: 0.2676 - accuracy: 0.9207\n",
            "313/313 [==============================] - 1s 2ms/step\n",
            "Epoch 1/2\n",
            "625/625 [==============================] - 2s 3ms/step - loss: 0.2653 - accuracy: 0.9218\n",
            "Epoch 2/2\n",
            "625/625 [==============================] - 2s 3ms/step - loss: 0.1108 - accuracy: 0.9664\n",
            "313/313 [==============================] - 1s 2ms/step\n",
            "Epoch 1/2\n",
            "625/625 [==============================] - 2s 3ms/step - loss: 0.2615 - accuracy: 0.9235\n",
            "Epoch 2/2\n",
            "625/625 [==============================] - 2s 3ms/step - loss: 0.1085 - accuracy: 0.9672\n",
            "313/313 [==============================] - 1s 2ms/step\n",
            "Epoch 1/2\n",
            "625/625 [==============================] - 2s 3ms/step - loss: 0.2608 - accuracy: 0.9240\n",
            "Epoch 2/2\n",
            "625/625 [==============================] - 2s 3ms/step - loss: 0.1089 - accuracy: 0.9677\n",
            "313/313 [==============================] - 1s 2ms/step\n",
            "Epoch 1/3\n",
            "625/625 [==============================] - 2s 3ms/step - loss: 0.2621 - accuracy: 0.9237\n",
            "Epoch 2/3\n",
            "625/625 [==============================] - 2s 3ms/step - loss: 0.1109 - accuracy: 0.9673\n",
            "Epoch 3/3\n",
            "625/625 [==============================] - 2s 3ms/step - loss: 0.0726 - accuracy: 0.9780\n",
            "313/313 [==============================] - 1s 2ms/step\n",
            "Epoch 1/3\n",
            "625/625 [==============================] - 2s 3ms/step - loss: 0.2622 - accuracy: 0.9234\n",
            "Epoch 2/3\n",
            "625/625 [==============================] - 2s 3ms/step - loss: 0.1104 - accuracy: 0.9679\n",
            "Epoch 3/3\n",
            "625/625 [==============================] - 2s 3ms/step - loss: 0.0726 - accuracy: 0.9783\n",
            "313/313 [==============================] - 0s 1ms/step\n",
            "Epoch 1/3\n",
            "625/625 [==============================] - 2s 3ms/step - loss: 0.2641 - accuracy: 0.9232\n",
            "Epoch 2/3\n",
            "625/625 [==============================] - 2s 3ms/step - loss: 0.1083 - accuracy: 0.9679\n",
            "Epoch 3/3\n",
            "625/625 [==============================] - 2s 3ms/step - loss: 0.0722 - accuracy: 0.9792\n",
            "313/313 [==============================] - 0s 1ms/step\n",
            "400/400 [==============================] - 1s 3ms/step - loss: 0.2933 - accuracy: 0.9162\n",
            "200/200 [==============================] - 0s 2ms/step\n",
            "400/400 [==============================] - 1s 3ms/step - loss: 0.2880 - accuracy: 0.9168\n",
            "200/200 [==============================] - 0s 2ms/step\n",
            "400/400 [==============================] - 1s 3ms/step - loss: 0.2849 - accuracy: 0.9178\n",
            "200/200 [==============================] - 0s 2ms/step\n",
            "Epoch 1/2\n",
            "400/400 [==============================] - 1s 3ms/step - loss: 0.2922 - accuracy: 0.9143\n",
            "Epoch 2/2\n",
            "400/400 [==============================] - 1s 3ms/step - loss: 0.1243 - accuracy: 0.9624\n",
            "200/200 [==============================] - 0s 2ms/step\n",
            "Epoch 1/2\n",
            "400/400 [==============================] - 2s 3ms/step - loss: 0.2896 - accuracy: 0.9154\n",
            "Epoch 2/2\n",
            "400/400 [==============================] - 1s 3ms/step - loss: 0.1212 - accuracy: 0.9641\n",
            "200/200 [==============================] - 0s 2ms/step\n",
            "Epoch 1/2\n",
            "400/400 [==============================] - 2s 3ms/step - loss: 0.2929 - accuracy: 0.9139\n",
            "Epoch 2/2\n",
            "400/400 [==============================] - 1s 3ms/step - loss: 0.1208 - accuracy: 0.9646\n",
            "200/200 [==============================] - 0s 2ms/step\n",
            "Epoch 1/3\n",
            "400/400 [==============================] - 1s 3ms/step - loss: 0.2893 - accuracy: 0.9158\n",
            "Epoch 2/3\n",
            "400/400 [==============================] - 1s 3ms/step - loss: 0.1203 - accuracy: 0.9640\n",
            "Epoch 3/3\n",
            "400/400 [==============================] - 1s 3ms/step - loss: 0.0793 - accuracy: 0.9764\n",
            "200/200 [==============================] - 0s 2ms/step\n",
            "Epoch 1/3\n",
            "400/400 [==============================] - 1s 3ms/step - loss: 0.2839 - accuracy: 0.9175\n",
            "Epoch 2/3\n",
            "400/400 [==============================] - 1s 3ms/step - loss: 0.1195 - accuracy: 0.9644\n",
            "Epoch 3/3\n",
            "400/400 [==============================] - 1s 3ms/step - loss: 0.0795 - accuracy: 0.9756\n",
            "200/200 [==============================] - 0s 2ms/step\n",
            "Epoch 1/3\n",
            "400/400 [==============================] - 1s 3ms/step - loss: 0.2891 - accuracy: 0.9170\n",
            "Epoch 2/3\n",
            "400/400 [==============================] - 1s 3ms/step - loss: 0.1189 - accuracy: 0.9646\n",
            "Epoch 3/3\n",
            "400/400 [==============================] - 1s 3ms/step - loss: 0.0770 - accuracy: 0.9768\n",
            "200/200 [==============================] - 0s 2ms/step\n",
            "Epoch 1/3\n",
            "1875/1875 [==============================] - 5s 3ms/step - loss: 0.2029 - accuracy: 0.9396\n",
            "Epoch 2/3\n",
            "1875/1875 [==============================] - 5s 3ms/step - loss: 0.0889 - accuracy: 0.9748\n",
            "Epoch 3/3\n",
            "1875/1875 [==============================] - 5s 3ms/step - loss: 0.0650 - accuracy: 0.9813\n",
            "Elapsed time: 192.5143654346466\n",
            "0.9728666666666667\n",
            "{'batch_size': 32, 'epochs': 3}\n"
          ]
        }
      ]
    }
  ]
}