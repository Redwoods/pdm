{
  "nbformat": 4,
  "nbformat_minor": 0,
  "metadata": {
    "colab": {
      "provenance": [],
      "include_colab_link": true
    },
    "kernelspec": {
      "name": "python3",
      "display_name": "Python 3"
    },
    "language_info": {
      "name": "python"
    },
    "accelerator": "GPU",
    "gpuClass": "standard"
  },
  "cells": [
    {
      "cell_type": "markdown",
      "metadata": {
        "id": "view-in-github",
        "colab_type": "text"
      },
      "source": [
        "<a href=\"https://colab.research.google.com/github/Redwoods/pdm/blob/main/project/dogsNcats/dogsNcats_DL3_TL_save_Model.ipynb\" target=\"_parent\"><img src=\"https://colab.research.google.com/assets/colab-badge.svg\" alt=\"Open In Colab\"/></a>"
      ]
    },
    {
      "cell_type": "markdown",
      "source": [
        "# dogsNcats\n",
        "- ## Transfer Learning"
      ],
      "metadata": {
        "id": "wONZs3Ne2i_h"
      }
    },
    {
      "cell_type": "code",
      "execution_count": null,
      "metadata": {
        "id": "XcCnvEvx2c-q"
      },
      "outputs": [],
      "source": [
        "# Down PetImages.zip from Google drive\n",
        "!gdown https://drive.google.com/uc?id=1VEs5Hz2iThTqP_mRoxQgl8PrZVjwszod"
      ]
    },
    {
      "cell_type": "code",
      "source": [
        "!unzip PetImages.zip -d PetImages\n",
        "# !unzip -q PetImages.zip -d PetImages"
      ],
      "metadata": {
        "id": "6WOQ3fIG3aSQ"
      },
      "execution_count": null,
      "outputs": []
    },
    {
      "cell_type": "code",
      "source": [
        "import os\n",
        "path = 'PetImages'\n",
        "# 서브 디렉토리별 파일 개수 출력\n",
        "for root, subdirs, files in os.walk(path):\n",
        "    if len(files) > 0:\n",
        "        print(root, len(files))"
      ],
      "metadata": {
        "id": "H-uumLLI9F-W"
      },
      "execution_count": null,
      "outputs": []
    },
    {
      "cell_type": "code",
      "source": [
        "# import\n",
        "import matplotlib.pyplot as plt \n",
        "from matplotlib.image import imread\n",
        "# import tensorflow as tf\n",
        "import tensorflow\n",
        "from tensorflow import keras\n",
        "from keras import models, layers\n"
      ],
      "metadata": {
        "id": "owq3z8Q4Kr3q"
      },
      "execution_count": null,
      "outputs": []
    },
    {
      "cell_type": "code",
      "source": [
        "# sample image\n",
        "image = imread('PetImages/train/dog/1.jpg')\n",
        "image.shape\n",
        "plt.imshow(image)\n",
        "plt.show()"
      ],
      "metadata": {
        "id": "tuOLeHPvZs4O"
      },
      "execution_count": null,
      "outputs": []
    },
    {
      "cell_type": "code",
      "source": [
        "# View a random image\n",
        "train_dir = './PetImages/train'\n",
        "test_dir = './PetImages/test'\n",
        "import matplotlib.image as mpimg\n",
        "import random\n",
        "\n",
        "def view_random_image(target_dir, target_class):\n",
        "  # Setup target directory (we'll view images from here)\n",
        "  target_folder = target_dir+'/'+target_class\n",
        "\n",
        "  # Get a random image path\n",
        "  random_image = random.sample(os.listdir(target_folder), 1)\n",
        "\n",
        "  # Read in the image and plot it using matplotlib\n",
        "  img = mpimg.imread(target_folder + \"/\" + random_image[0])\n",
        "  plt.imshow(img, cmap = \"gray\")\n",
        "  plt.title(target_class)\n",
        "  plt.axis(\"off\");\n",
        "\n",
        "  print(f\"Image shape: {img.shape}\") # show the shape of the image\n",
        "\n",
        "  return img\n",
        "\n",
        "img = view_random_image(target_dir = train_dir, target_class = \"cat\")\n",
        "# img = tensorflow.constant(img)\n",
        "plt.show()\n"
      ],
      "metadata": {
        "id": "riSKRq31ZOZQ"
      },
      "execution_count": null,
      "outputs": []
    },
    {
      "cell_type": "markdown",
      "source": [
        "## tensorflow dataset from local images"
      ],
      "metadata": {
        "id": "efKszERtaDY-"
      }
    },
    {
      "cell_type": "code",
      "source": [
        "#\n",
        "# Setting up the data\n",
        "#\n",
        "from tensorflow.keras.preprocessing import image_dataset_from_directory\n",
        "IMG_SIZE = (128, 128)\n",
        "batchSize=20\n",
        "\n",
        "print(\"Training Images:\")\n",
        "train_data = image_dataset_from_directory(directory = train_dir,\n",
        "                                            image_size = IMG_SIZE,\n",
        "                                            label_mode = \"binary\",\n",
        "                                            color_mode = \"rgb\",\n",
        "                                            batch_size = batchSize)\n",
        "\n",
        "print(\"Testing Images:\")\n",
        "test_data = image_dataset_from_directory(directory = test_dir,\n",
        "                                            image_size = IMG_SIZE,\n",
        "                                            label_mode = \"binary\",\n",
        "                                            color_mode = \"rgb\",\n",
        "                                            batch_size = batchSize)\n",
        "\n",
        "# Inspecting the train_data\n",
        "train_data   # BatchDataset\n",
        "# <BatchDataset element_spec=(TensorSpec(shape=(None, 128, 128, 3), dtype=tf.float32, name=None), \n",
        "# TensorSpec(shape=(None, 1), dtype=tf.float32, name=None))>\n"
      ],
      "metadata": {
        "id": "w0hmKfDOaERi"
      },
      "execution_count": null,
      "outputs": []
    },
    {
      "cell_type": "markdown",
      "source": [
        "## Visualize images from dataset"
      ],
      "metadata": {
        "id": "3Sbjwlrpahuu"
      }
    },
    {
      "cell_type": "code",
      "source": [
        "# Plot images from dataset\n",
        "# figure 크기를 조절합니다.\n",
        "plt.figure(figsize=(10, 10))\n",
        "names = ['cat','dog']\n",
        "# 배치 하나를 가져옵니다.\n",
        "for images, labels in train_data.take(1):\n",
        "    for i in range(9):\n",
        "        ax = plt.subplot(3, 3, i + 1)\n",
        "        plt.imshow(images[i].numpy().astype(\"uint8\"))\n",
        "        plt.title(names[int(labels[i])])\n",
        "        plt.axis(\"off\")\n",
        "plt.show()\n",
        "\n",
        "# [DIY] Plot images from test dataset\n",
        "print(\"=\"*20, 'Test dataset', \"=\"*20)\n"
      ],
      "metadata": {
        "id": "OZdHq9tmaYpL"
      },
      "execution_count": null,
      "outputs": []
    },
    {
      "cell_type": "markdown",
      "source": [
        "## Data Augmentation"
      ],
      "metadata": {
        "id": "9zUhbOujNIgz"
      }
    },
    {
      "cell_type": "code",
      "source": [
        "#\n",
        "# Data augmentation\n",
        "#\n",
        "# Create a data augmentation stage with horizontal flipping, rotations, zooms\n",
        "#\n",
        "tensorflow.get_logger().setLevel('ERROR')  # Clear warnings in data augmentation\n",
        "\n",
        "# from tensorflow import keras\n",
        "data_augmentation = keras.Sequential([\n",
        "  layers.RandomFlip(\"horizontal\"),\n",
        "  layers.RandomRotation(0.2),\n",
        "  layers.RandomZoom(0.2),\n",
        "  layers.RandomHeight(0.2),  # Not compatible with model\n",
        "  layers.RandomWidth(0.2),\n",
        "  # layers.Rescaling(1./255) # keep for ResNet50V2, remove for EfficientNetB0\n",
        "], name =\"data_augmentation\")\n"
      ],
      "metadata": {
        "id": "cYlXSb_RKwIa"
      },
      "execution_count": null,
      "outputs": []
    },
    {
      "cell_type": "markdown",
      "source": [
        "### Visualize the augmented images"
      ],
      "metadata": {
        "id": "bb5y12kKbF6T"
      }
    },
    {
      "cell_type": "code",
      "source": [
        "#\n",
        "# Visualize the augmented images\n",
        "#\n",
        "print(\"=\"*25, 'Train dataset', \"=\"*25)\n",
        "plt.figure(figsize=(10,10))\n",
        "image_idx = 0\n",
        "for images, labels in train_data.take(1):    # Make a batch of images & labels\n",
        "    print(labels,images.shape)\n",
        "    for i in range(9):\n",
        "        ax = plt.subplot(3, 3, i + 1)\n",
        "        aug_img = data_augmentation(tensorflow.expand_dims(images[image_idx], axis=0))\n",
        "        print(aug_img.shape)\n",
        "        plt.imshow(aug_img[0].numpy().astype(\"uint8\"))\n",
        "        plt.title(\"{}\".format(names[int(labels[image_idx])]))\n",
        "        plt.axis(\"off\")\n",
        "    break\n",
        "plt.show()\n",
        "\n",
        "print(\"=\"*25, 'Test dataset', \"=\"*25)\n",
        "plt.figure(figsize=(10,10))\n",
        "image_idx = 0\n",
        "for images, labels in test_data.take(1):    # Make a batch of images & labels\n",
        "    print(labels,images.shape)\n",
        "    for i in range(9):\n",
        "        ax = plt.subplot(3, 3, i + 1)\n",
        "        aug_img = data_augmentation(tensorflow.expand_dims(images[image_idx], axis=0))\n",
        "        print(aug_img.shape)\n",
        "        plt.imshow(aug_img[0].numpy().astype(\"uint8\"))\n",
        "        plt.title(\"{}\".format(names[int(labels[image_idx])]))\n",
        "        plt.axis(\"off\")\n",
        "    break\n",
        "plt.show()"
      ],
      "metadata": {
        "id": "_u2dYk6kbHrv"
      },
      "execution_count": null,
      "outputs": []
    },
    {
      "cell_type": "markdown",
      "source": [
        "# Model: Transfer learning\n",
        "- ## EfficientNetB1"
      ],
      "metadata": {
        "id": "_6R_5SlrM9kL"
      }
    },
    {
      "cell_type": "code",
      "source": [
        "#\n",
        "# Transfer learning\n",
        "#\n",
        "## Using the model EfficientNetB1 for the first experiment with all the layers trainable \n",
        "#\n",
        "base_model = keras.applications.EfficientNetB1(include_top = False)\n",
        "base_model.trainable = True \n",
        "# Check the input and output of the pretraioned model\n",
        "# print(base_model.input.shape)\n",
        "# print(base_model.output.shape)\n",
        "\n",
        "for layer_number, layer in enumerate(base_model.layers):\n",
        "  print(layer_number, layer.trainable, end=\", \")\n"
      ],
      "metadata": {
        "id": "HKpvnANzM0Fb"
      },
      "execution_count": null,
      "outputs": []
    },
    {
      "cell_type": "code",
      "source": [
        "model = keras.Sequential([\n",
        "  layers.Input(shape=(128,128,3),name='input_layer'),\n",
        "  # layers.Rescaling(1./255),\n",
        "  data_augmentation,\n",
        "  # layers.Conv2D(20,3,activation='relu',padding='same'),\n",
        "  base_model,\n",
        "  layers.GlobalMaxPooling2D(name = \"global_max\"),\n",
        "  layers.Dense(128,activation='relu'),\n",
        "  layers.Dense(1,activation='sigmoid')\n",
        "])\n",
        "\n",
        "model.compile(optimizer=keras.optimizers.Adam(learning_rate=0.0001), \n",
        "              loss = 'binary_crossentropy', \n",
        "              metrics = ['accuracy'])\n",
        "\n",
        "model.summary()\n"
      ],
      "metadata": {
        "id": "wWsGntl5tojI"
      },
      "execution_count": null,
      "outputs": []
    },
    {
      "cell_type": "code",
      "source": [
        "# from tensorflow import keras\n",
        "keras.utils.plot_model(model, show_shapes=True)"
      ],
      "metadata": {
        "id": "Ifb4_7kTO6I-"
      },
      "execution_count": null,
      "outputs": []
    },
    {
      "cell_type": "code",
      "source": [
        "len(train_data),len(test_data)  # 2000/20, 200/20, batch_size=20"
      ],
      "metadata": {
        "id": "KVS1QpmxPe6P"
      },
      "execution_count": null,
      "outputs": []
    },
    {
      "cell_type": "markdown",
      "source": [
        "# Building the Model"
      ],
      "metadata": {
        "id": "InREyfbVoUA5"
      }
    },
    {
      "cell_type": "code",
      "source": [
        "# Setting up the callbacks\n",
        "# Setup EarlyStopping callback to stop training if model's val_loss doesn't improve for 3 epochs\n",
        "early_stopping = keras.callbacks.EarlyStopping(monitor=\"val_loss\", # watch the val loss metric\n",
        "                                                  patience=10) # if val loss decreases for 10 epochs in a row, stop training\n",
        "# Creating learning rate reduction callback\n",
        "reduce_lr = keras.callbacks.ReduceLROnPlateau(monitor=\"val_loss\",  \n",
        "                                                 factor=0.25, # multiply the learning rate by 0.2 (reduce by 4x)\n",
        "                                                 patience=5,\n",
        "                                                 verbose=1, # print out when learning rate goes down \n",
        "                                                 min_lr=1e-7)\n",
        "# Check the best model and save the best model\n",
        "cp_callback = keras.callbacks.ModelCheckpoint(filepath=\"./model/dogsNcats_TL_efficientNetB1_best_weights.{epoch:02d}-{val_accuracy:.3f}.hdf5\", \n",
        "                              monitor='val_accuracy', verbose=0, save_best_only=True)\n",
        "\n",
        "## Check the summary\n",
        "for no, layer in enumerate(model.layers):\n",
        "  print(no, layer.trainable)\n"
      ],
      "metadata": {
        "id": "AuQ5q9hQoSW7"
      },
      "execution_count": null,
      "outputs": []
    },
    {
      "cell_type": "code",
      "source": [
        "######################################################\n",
        "# Training model using augmentated data\n",
        "######################################################\n",
        "#\n",
        "%%time\n",
        "history = model.fit(train_data, \n",
        "                    epochs=100, \n",
        "                    steps_per_epoch = len(train_data), \n",
        "                    validation_data = test_data,\n",
        "                    validation_steps = len(test_data), # batchSize,\n",
        "                    callbacks = [cp_callback, early_stopping, reduce_lr])\n"
      ],
      "metadata": {
        "id": "XnEuJxyfPIr4"
      },
      "execution_count": null,
      "outputs": []
    },
    {
      "cell_type": "code",
      "source": [
        "#############################################\n",
        "# More training graphs\n",
        "# More graphs of loss and accuracy\n",
        "# import matplotlib.pyplot as plt\n",
        "import numpy as np\n",
        "\n",
        "history_dict = history.history \n",
        "loss = history_dict['loss']\n",
        "val_loss = history_dict['val_loss']\n",
        "\n",
        "epochs = range(1, len(loss) + 1)\n",
        "\n",
        "plt.figure(figsize=(14, 4))\n",
        "\n",
        "plt.subplot(1,2,1)\n",
        "plt.plot(epochs, loss, 'go-', label='Training Loss')\n",
        "plt.plot(epochs, val_loss, 'bd', label='Validation Loss')\n",
        "plt.plot(np.argmin(np.array(val_loss))+1,val_loss[np.argmin(np.array(val_loss))], 'r*', ms=12)\n",
        "plt.title('Training and Validation Loss, min: ' + str(np.round(val_loss[np.argmin(np.array(val_loss))],4)))\n",
        "plt.xlabel('Epochs')\n",
        "plt.ylabel('Loss')\n",
        "plt.legend()\n",
        "\n",
        "acc = history_dict['accuracy']\n",
        "val_acc = history_dict['val_accuracy']\n",
        "\n",
        "epochs = range(1, len(loss) + 1)\n",
        "\n",
        "plt.subplot(1,2,2)\n",
        "plt.plot(epochs, acc, 'go-', label='Training Accuracy') #, c='blue')\n",
        "plt.plot(epochs, val_acc, 'bd', label='Validation Accuracy') #, c='red')\n",
        "plt.plot(np.argmax(np.array(val_acc))+1,val_acc[np.argmax(np.array(val_acc))], 'r*', ms=12)\n",
        "plt.title('Training and Validation Accuracy, max: ' + str(np.round(val_acc[np.argmax(np.array(val_acc))],4)))\n",
        "plt.xlabel('Epochs')\n",
        "plt.ylabel('Accuracy')\n",
        "plt.legend()\n",
        "plt.show()\n"
      ],
      "metadata": {
        "id": "g0V7__s1QhNQ"
      },
      "execution_count": null,
      "outputs": []
    },
    {
      "cell_type": "markdown",
      "source": [
        "## Trained well!"
      ],
      "metadata": {
        "id": "s8gmT1UCSffI"
      }
    },
    {
      "cell_type": "markdown",
      "source": [
        "---"
      ],
      "metadata": {
        "id": "gvenFFW3Si8z"
      }
    },
    {
      "cell_type": "code",
      "source": [
        "model.evaluate(test_data)"
      ],
      "metadata": {
        "id": "UQiYMoyLSkK2"
      },
      "execution_count": null,
      "outputs": []
    },
    {
      "cell_type": "code",
      "source": [
        "pred = model.predict(test_data)"
      ],
      "metadata": {
        "id": "QvMmJPq7VKX4"
      },
      "execution_count": null,
      "outputs": []
    },
    {
      "cell_type": "code",
      "source": [
        "pred.shape,pred[:10]"
      ],
      "metadata": {
        "id": "SO8R9MnFVRe2"
      },
      "execution_count": null,
      "outputs": []
    },
    {
      "cell_type": "markdown",
      "source": [
        "## CONFUSION MATRIX"
      ],
      "metadata": {
        "id": "CeqB8duSV-aj"
      }
    },
    {
      "cell_type": "code",
      "source": [
        "# Correct-handling with tf_dataset - test_data,unbatch()\n",
        "from sklearn.metrics import confusion_matrix\n",
        "\n",
        "y_test=[]\n",
        "y_pred=[]\n",
        "for images, labels in test_data.unbatch():   # 개개의 이미지에 대한 예측과 label에 수집\n",
        "    # print(images.shape,labels.shape)\n",
        "    y_pred0 = model.predict(np.expand_dims(images, axis=0), verbose=0) #, batch_size=1)  \n",
        "    y_pred.append(np.round(y_pred0[0]))  #, axis=0)\n",
        "    y_test.append(labels.numpy())\n",
        "    # break\n",
        "\n",
        "print(len(y_test),len(y_pred))\n",
        "# print(y_test.shape,y_pred.shape)\n",
        "\n",
        "print(\"정답=\", y_test[0])\n",
        "print(\"예측값=\", y_pred[0]) #, np.round(y_pred0[0]))\n",
        "\n",
        "from sklearn.metrics import accuracy_score\n",
        "print(accuracy_score(y_test, y_pred))\n",
        "\n",
        "confusion_matrix(y_test, y_pred)"
      ],
      "metadata": {
        "id": "rbDAu7rdz3cZ"
      },
      "execution_count": null,
      "outputs": []
    },
    {
      "cell_type": "code",
      "source": [
        "cm = confusion_matrix(y_test, y_pred)\n",
        "acc = accuracy_score(y_test, y_pred)\n",
        "\n",
        "import seaborn as sns\n",
        "plt.figure(figsize=(5,5))\n",
        "sns.heatmap(cm, cbar=False, xticklabels=names, yticklabels=names, fmt='d', annot=True, cmap=plt.cm.Greens) #coolwarm)\n",
        "plt.xlabel('Predicted')\n",
        "plt.ylabel('Actual')\n",
        "plt.title(f'Confusion matrix, ACC={acc}', fontsize=16)\n",
        "plt.show()"
      ],
      "metadata": {
        "id": "Y4HVtVp3VZlE"
      },
      "execution_count": null,
      "outputs": []
    },
    {
      "cell_type": "markdown",
      "metadata": {
        "id": "E5UPpdUvnvIA"
      },
      "source": [
        "## [DIY] 학습된 best model을 이용해서 혼동행렬을 구하시오.\n",
        "### Best model saved,\n",
        "- dogsNcats_TL_efficientNetB1_best_weights.10-0.950.hdf5"
      ]
    },
    {
      "cell_type": "code",
      "execution_count": null,
      "metadata": {
        "id": "1AYMYbf9n6pE"
      },
      "outputs": [],
      "source": [
        "from keras.models import load_model\n",
        "\n",
        "model_best = load_model('model/dogsNcats_TL_efficientNetB1_best_weights.10-0.950.hdf5')\n",
        "# model_best.evaluate(X_test, y_test)  #, batch_size=BATCH_SIZE)"
      ]
    },
    {
      "cell_type": "code",
      "execution_count": null,
      "metadata": {
        "id": "1Sd_1EqXofvF"
      },
      "outputs": [],
      "source": [
        "# Correct-handling with tf_dataset - test_data,unbatch()\n",
        "import tensorflow as tf\n",
        "\n",
        "y_test=[]\n",
        "y_pred=[]\n",
        "# X_test = tf.zeros(shape=(128,128,3), name=None)  #\n",
        "X_test = np.empty((128,128,3), int)\n",
        "\n",
        "# Best model로 전체 테스트 batch에 대하여 다시 예측을 실시함.\n",
        "for image, label in test_data.unbatch():   # 개개의 이미지에 대한 예측과 label 수집하면서 test 데이터를 X_test 로 저장\n",
        "    # print(images.shape,labels.shape)\n",
        "    y_pred0 = model_best.predict(np.expand_dims(image, axis=0), verbose=0) #, batch_size=1)  \n",
        "    y_pred.append(np.round(y_pred0[0]))  #, axis=0)\n",
        "    y_test.append(label.numpy())\n",
        "    X_test = np.vstack([X_test,image])  #, axis=0)\n",
        "#     tf.stack([X_test, image], axis=0)\n",
        "    # break\n",
        "\n",
        "X_test = X_test.reshape(-1,128,128,3)\n",
        "X_test=X_test[1:]\n",
        "y_test = [int(i) for i in y_test]\n",
        "y_pred = [int(i) for i in y_pred]\n",
        "print(len(y_test),len(y_pred), X_test.shape)\n",
        "# print(y_test.shape,y_pred.shape)\n",
        "\n",
        "print(\"정답=\", y_test[0])\n",
        "print(\"예측값=\", y_pred[0]) #, np.round(y_pred0[0]))\n",
        "\n"
      ]
    },
    {
      "cell_type": "code",
      "execution_count": null,
      "metadata": {
        "id": "k_3miQeXoq47"
      },
      "outputs": [],
      "source": [
        "from sklearn.metrics import accuracy_score\n",
        "from sklearn.metrics import confusion_matrix\n",
        "\n",
        "cm = confusion_matrix(y_test, y_pred)\n",
        "acc = accuracy_score(y_test, y_pred)\n",
        "\n",
        "import seaborn as sns\n",
        "plt.figure(figsize=(5,5))\n",
        "sns.heatmap(cm, cbar=False, xticklabels=names, yticklabels=names, fmt='d', annot=True, cmap=plt.cm.Greens) #coolwarm)\n",
        "plt.xlabel('Predicted')\n",
        "plt.ylabel('Actual')\n",
        "plt.title(f'Confusion matrix, Best ACC={round(acc,2)}', fontsize=16)\n",
        "plt.show()"
      ]
    },
    {
      "cell_type": "markdown",
      "metadata": {
        "id": "d4IABiHDaxVX"
      },
      "source": [
        "---"
      ]
    },
    {
      "cell_type": "markdown",
      "metadata": {
        "id": "D4GDiEP0qoNt"
      },
      "source": [
        "## test of the best model"
      ]
    },
    {
      "cell_type": "code",
      "execution_count": null,
      "metadata": {
        "id": "xLq2Vj91qqaW"
      },
      "outputs": [],
      "source": [
        "import matplotlib as mpl\n",
        "def plot_pred(i, predictions, true_labels, img):\n",
        "    predicted_label, true_label, img = predictions[i], true_labels[i], img[i]\n",
        "    print(img.shape)\n",
        "    if predicted_label == true_label:   # np.argmax(true_label)\n",
        "        mpl.rc('text', color='green')\n",
        "        print(\"Test image-%d: Correct!\\n\" % i)\n",
        "    else:\n",
        "        mpl.rc('text', color='red')\n",
        "        print(\"Test image-%d: Wrong.\\n\" % i)\n",
        "    \n",
        "    plt.pause(0.05)\n",
        "    plt.grid(False)\n",
        "#     plt.title(names[true_label])\n",
        "    plt.xticks([])\n",
        "    plt.yticks([])\n",
        "    plt.title(names[true_label])\n",
        "    plt.imshow(img/255.0)\n",
        "    "
      ]
    },
    {
      "cell_type": "code",
      "execution_count": null,
      "metadata": {
        "id": "bgclC2-3yk_L"
      },
      "outputs": [],
      "source": [
        "# predictions = model_best.predict(X_test) => y_pred\n",
        "np.random.seed(None)\n",
        "num = np.random.randint(0, len(X_test))\n",
        "\n",
        "plt.figure(figsize=(4, 4))\n",
        "# plt.subplot(1, 2, (1, 2))\n",
        "plot_pred(num, y_pred, y_test, X_test)\n",
        "\n",
        "plt.show()"
      ]
    },
    {
      "cell_type": "markdown",
      "metadata": {
        "id": "5K9VIoC-pjma"
      },
      "source": [
        "---\n",
        "## **전이(전환)학습 방법**\n",
        "1. 데이터 수집\n",
        "2. 데이터세트 구성 (train,test,validation): tf.keras.preprocessing.image_dataset_from_directory\n",
        "3. 데이터 증대 (Data augmentation)\n",
        "4. 모델 구성: imagenet 모델 연결, 레이어 학습 조건 설정\n",
        "5. 콜백 조건 설정\n",
        "6. 모델 학습 및 테스트\n",
        "    - steps_per_epoch = len(train_data)\n",
        "    - validation_data = test_data\n",
        "    - validation_steps = len(test_data)\n",
        "\n",
        "> steps_per_epoch를 전체데이터의 길이로 설정: 학습 시간이 길어지나 작을 val_loss를 가진 모델을 구할 수 있디.\n",
        "> validation_steps은 테스트데이터 길이의 25~100으로 조정 가능 %"
      ]
    },
    {
      "cell_type": "code",
      "source": [],
      "metadata": {
        "id": "9jC64NdM8z3Q"
      },
      "execution_count": null,
      "outputs": []
    }
  ]
}